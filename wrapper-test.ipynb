{
 "cells": [
  {
   "cell_type": "code",
   "execution_count": 2,
   "id": "e355a85b-1cb3-416f-9521-406e81350640",
   "metadata": {},
   "outputs": [],
   "source": [
    "from model_wrapper import ModelFamily"
   ]
  },
  {
   "cell_type": "code",
   "execution_count": 3,
   "id": "874c1a44-cd32-45ba-a051-7028bdcc1e43",
   "metadata": {},
   "outputs": [
    {
     "data": {
      "text/plain": [
       "{'350M': 'Salesforce/codegen-350M-mono',\n",
       " '2B': 'Salesforce/codegen-2B-mono',\n",
       " '6B': 'Salesforce/codegen-6B-mono',\n",
       " '16B': 'Salesforce/codegen-16B-mono'}"
      ]
     },
     "execution_count": 3,
     "metadata": {},
     "output_type": "execute_result"
    }
   ],
   "source": [
    "ModelFamily.CodeGen1.mono"
   ]
  },
  {
   "cell_type": "code",
   "execution_count": 4,
   "id": "3d9b92f4-b191-4259-848d-3ed3a59dd758",
   "metadata": {},
   "outputs": [
    {
     "data": {
      "text/plain": [
       "{'1B': 'Salesforce/codegen2-1B',\n",
       " '3.7B': 'Salesforce/codegen2-3_7B',\n",
       " '7B': 'Salesforce/codegen2-7B',\n",
       " '16B': 'Salesforce/codegen2-16B'}"
      ]
     },
     "execution_count": 4,
     "metadata": {},
     "output_type": "execute_result"
    }
   ],
   "source": [
    "ModelFamily.CodeGen2"
   ]
  },
  {
   "cell_type": "code",
   "execution_count": null,
   "id": "85088398-e6bf-42c0-ba75-0df8effb7d46",
   "metadata": {},
   "outputs": [],
   "source": []
  }
 ],
 "metadata": {
  "kernelspec": {
   "display_name": "Python 3",
   "language": "python",
   "name": "python3"
  },
  "language_info": {
   "codemirror_mode": {
    "name": "ipython",
    "version": 3
   },
   "file_extension": ".py",
   "mimetype": "text/x-python",
   "name": "python",
   "nbconvert_exporter": "python",
   "pygments_lexer": "ipython3",
   "version": "3.8.10"
  }
 },
 "nbformat": 4,
 "nbformat_minor": 5
}
