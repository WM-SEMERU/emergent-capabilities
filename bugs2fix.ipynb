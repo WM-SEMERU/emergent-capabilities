{
 "cells": [
  {
   "cell_type": "markdown",
   "id": "4ac348e1-2ebd-4298-8d1e-abcc3d159d7f",
   "metadata": {},
   "source": [
    "# Common Constants"
   ]
  },
  {
   "cell_type": "code",
   "execution_count": 1,
   "id": "96dcb753-0341-472e-b082-eca3db8dcc4a",
   "metadata": {},
   "outputs": [],
   "source": [
    "import os\n",
    "from run_battery import BatteryRunner\n",
    "\n",
    "runner = BatteryRunner(\n",
    "    case_count=100,\n",
    "    meta_count=None,\n",
    "    task=\"bugs2fix\",\n",
    "    prompts=[\n",
    "        \"// the buggy version of the code\\n{prompt}\\n// the fixed version of the code\\n\",\n",
    "        \"// You are given a piece of buggy code. Your task is to fix the error, and generate the corrected code. Fix the following code:\\n{prompt}\\n\",\n",
    "    ],\n",
    "    battery_path=\"./data/CodeXGLUE/Code-Code/code-refinement/data/small\",\n",
    "    questions_file=\"test.buggy-fixed.buggy\",\n",
    "    truth_file=\"test.buggy-fixed.fixed\",\n",
    ")"
   ]
  },
  {
   "cell_type": "code",
   "execution_count": 2,
   "id": "b83eebff-de8e-4c69-bf22-544a23a6710b",
   "metadata": {},
   "outputs": [
    {
     "name": "stdout",
     "output_type": "stream",
     "text": [
      "Loaded 100 cases!\n"
     ]
    }
   ],
   "source": [
    "runner.load_cases()"
   ]
  },
  {
   "cell_type": "code",
   "execution_count": 3,
   "id": "2bc4643a-d810-4e94-bc36-ba452ae9561c",
   "metadata": {},
   "outputs": [],
   "source": [
    "from model_wrapper import ModelFamily"
   ]
  },
  {
   "cell_type": "markdown",
   "id": "00e7c680-4188-434c-8d6f-09d872fef397",
   "metadata": {},
   "source": [
    "# Generate Output"
   ]
  },
  {
   "cell_type": "code",
   "execution_count": 4,
   "id": "e5954682-cfba-4820-8f63-17e35922b2d9",
   "metadata": {},
   "outputs": [
    {
     "data": {
      "application/vnd.jupyter.widget-view+json": {
       "model_id": "da9099a4756d4828a8e06ab64f195265",
       "version_major": 2,
       "version_minor": 0
      },
      "text/plain": [
       "HTML(value=\"<h1 style='font-weight: bold; border-bottom: 1px solid;'>Testing prompt index 0</h1>\")"
      ]
     },
     "metadata": {},
     "output_type": "display_data"
    },
    {
     "name": "stdout",
     "output_type": "stream",
     "text": [
      "# Testing prompt index 0\n",
      "Prompt to be tested:\n",
      "// the buggy version of the code\n",
      "{prompt}\n",
      "// the fixed version of the code\n",
      "\n"
     ]
    },
    {
     "data": {
      "application/vnd.jupyter.widget-view+json": {
       "model_id": "3b9fe210629d4861a89bc3307de4678e",
       "version_major": 2,
       "version_minor": 0
      },
      "text/plain": [
       "HTML(value=\"<h2 style='font-weight: bold; border-bottom: 1px dotted;'>Loading 350M (Salesforce/codegen-350M-mu…"
      ]
     },
     "metadata": {},
     "output_type": "display_data"
    },
    {
     "name": "stdout",
     "output_type": "stream",
     "text": [
      "## Loading 350M (Salesforce/codegen-350M-multi)\n",
      "[2024-06-01@21:13:10|model.device] Starting timer.\n",
      "Configuring torch device...\n",
      "Using device: cuda:0 aka cuda:0\n",
      "[2024-06-01@21:13:10|model.device] Time elapsed: 45ms\n",
      "[2024-06-01@21:13:10|model.tokenizer] Starting timer.\n",
      "[2024-06-01@21:13:10|model.tokenizer] Time elapsed: 248ms\n",
      "[2024-06-01@21:13:10|model.model] Starting timer.\n",
      "Obtaining model...\n",
      "[2024-06-01@21:13:14|model.model] Time elapsed: 4s 164ms\n",
      "Opening ./output/bugs2fix/prompt0/codegen1-multi-350M.output...\n",
      "95 entries found already, skipping that many...\n"
     ]
    },
    {
     "data": {
      "application/vnd.jupyter.widget-view+json": {
       "model_id": "a7334930476d436a828df8b289dd8b22",
       "version_major": 2,
       "version_minor": 0
      },
      "text/plain": [
       "VBox(children=(IntProgress(value=0, description='Progress:'), Label(value='Estimated time remaining: calculati…"
      ]
     },
     "metadata": {},
     "output_type": "display_data"
    },
    {
     "name": "stdout",
     "output_type": "stream",
     "text": [
      "Done, 15s 416ms elapsed.\n"
     ]
    },
    {
     "data": {
      "application/vnd.jupyter.widget-view+json": {
       "model_id": "3c6ba30f21844fc6b07be3fd5ba57cbd",
       "version_major": 2,
       "version_minor": 0
      },
      "text/plain": [
       "HTML(value=\"<h2 style='font-weight: bold; border-bottom: 1px dotted;'>Loading 2B (Salesforce/codegen-2B-multi)…"
      ]
     },
     "metadata": {},
     "output_type": "display_data"
    },
    {
     "name": "stdout",
     "output_type": "stream",
     "text": [
      "## Loading 2B (Salesforce/codegen-2B-multi)\n",
      "[2024-06-01@21:13:30|model.device] Starting timer.\n",
      "Configuring torch device...\n",
      "Using device: cuda:0 aka cuda:0\n",
      "[2024-06-01@21:13:30|model.device] Time elapsed: ~0s\n",
      "[2024-06-01@21:13:30|model.tokenizer] Starting timer.\n",
      "[2024-06-01@21:13:30|model.tokenizer] Time elapsed: 156ms\n",
      "[2024-06-01@21:13:30|model.model] Starting timer.\n",
      "Obtaining model...\n",
      "[2024-06-01@21:14:05|model.model] Time elapsed: 35s 165ms\n",
      "Opening ./output/bugs2fix/prompt0/codegen1-multi-2B.output...\n",
      "95 entries found already, skipping that many...\n"
     ]
    },
    {
     "data": {
      "application/vnd.jupyter.widget-view+json": {
       "model_id": "453953cc12014ffeb9354f1f60b62dc4",
       "version_major": 2,
       "version_minor": 0
      },
      "text/plain": [
       "VBox(children=(IntProgress(value=0, description='Progress:'), Label(value='Estimated time remaining: calculati…"
      ]
     },
     "metadata": {},
     "output_type": "display_data"
    },
    {
     "name": "stdout",
     "output_type": "stream",
     "text": [
      "Done, 22s 695ms elapsed.\n"
     ]
    },
    {
     "data": {
      "application/vnd.jupyter.widget-view+json": {
       "model_id": "48594e24c4ca40db888ee972b397f055",
       "version_major": 2,
       "version_minor": 0
      },
      "text/plain": [
       "HTML(value=\"<h2 style='font-weight: bold; border-bottom: 1px dotted;'>Loading 6B (Salesforce/codegen-6B-multi)…"
      ]
     },
     "metadata": {},
     "output_type": "display_data"
    },
    {
     "name": "stdout",
     "output_type": "stream",
     "text": [
      "## Loading 6B (Salesforce/codegen-6B-multi)\n",
      "[2024-06-01@21:14:28|model.device] Starting timer.\n",
      "Configuring torch device...\n",
      "Using device: cuda:0 aka cuda:0\n",
      "[2024-06-01@21:14:28|model.device] Time elapsed: ~0s\n",
      "[2024-06-01@21:14:28|model.tokenizer] Starting timer.\n",
      "[2024-06-01@21:14:28|model.tokenizer] Time elapsed: 138ms\n",
      "[2024-06-01@21:14:28|model.model] Starting timer.\n",
      "Obtaining model...\n"
     ]
    },
    {
     "name": "stderr",
     "output_type": "stream",
     "text": [
      "WARNING:root:Some parameters are on the meta device device because they were offloaded to the cpu.\n"
     ]
    },
    {
     "name": "stdout",
     "output_type": "stream",
     "text": [
      "[2024-06-01@21:15:54|model.model] Time elapsed: 1min 25s\n",
      "Opening ./output/bugs2fix/prompt0/codegen1-multi-6B.output...\n",
      "95 entries found already, skipping that many...\n"
     ]
    },
    {
     "data": {
      "application/vnd.jupyter.widget-view+json": {
       "model_id": "e140f10b17854369b7ad313f8a607e1b",
       "version_major": 2,
       "version_minor": 0
      },
      "text/plain": [
       "VBox(children=(IntProgress(value=0, description='Progress:'), Label(value='Estimated time remaining: calculati…"
      ]
     },
     "metadata": {},
     "output_type": "display_data"
    },
    {
     "name": "stdout",
     "output_type": "stream",
     "text": [
      "Done, 4min 46s elapsed.\n"
     ]
    },
    {
     "data": {
      "application/vnd.jupyter.widget-view+json": {
       "model_id": "f4ca8c900ad043fe9f0489fe29629859",
       "version_major": 2,
       "version_minor": 0
      },
      "text/plain": [
       "HTML(value=\"<h2 style='font-weight: bold; border-bottom: 1px dotted;'>Loading 16B (Salesforce/codegen-16B-mult…"
      ]
     },
     "metadata": {},
     "output_type": "display_data"
    },
    {
     "name": "stdout",
     "output_type": "stream",
     "text": [
      "## Loading 16B (Salesforce/codegen-16B-multi)\n",
      "[2024-06-01@21:20:41|model.device] Starting timer.\n",
      "Configuring torch device...\n",
      "Using device: cuda:0 aka cuda:0\n",
      "[2024-06-01@21:20:41|model.device] Time elapsed: ~0s\n",
      "[2024-06-01@21:20:41|model.tokenizer] Starting timer.\n",
      "[2024-06-01@21:20:41|model.tokenizer] Time elapsed: 207ms\n",
      "[2024-06-01@21:20:41|model.model] Starting timer.\n",
      "Obtaining model...\n"
     ]
    },
    {
     "name": "stderr",
     "output_type": "stream",
     "text": [
      "WARNING:root:Some parameters are on the meta device device because they were offloaded to the cpu.\n"
     ]
    },
    {
     "name": "stdout",
     "output_type": "stream",
     "text": [
      "[2024-06-01@21:23:55|model.model] Time elapsed: 3min 13s\n",
      "Opening ./output/bugs2fix/prompt0/codegen1-multi-16B.output...\n",
      "95 entries found already, skipping that many...\n"
     ]
    },
    {
     "data": {
      "application/vnd.jupyter.widget-view+json": {
       "model_id": "11ee889db2194b7689768b4f50ce9a0e",
       "version_major": 2,
       "version_minor": 0
      },
      "text/plain": [
       "VBox(children=(IntProgress(value=0, description='Progress:'), Label(value='Estimated time remaining: calculati…"
      ]
     },
     "metadata": {},
     "output_type": "display_data"
    },
    {
     "name": "stdout",
     "output_type": "stream",
     "text": [
      "Done, 33min 46s elapsed.\n"
     ]
    },
    {
     "data": {
      "application/vnd.jupyter.widget-view+json": {
       "model_id": "226e35732a1243958199b2701feb8326",
       "version_major": 2,
       "version_minor": 0
      },
      "text/plain": [
       "HTML(value=\"<h1 style='font-weight: bold; border-bottom: 1px solid;'>Testing prompt index 1</h1>\")"
      ]
     },
     "metadata": {},
     "output_type": "display_data"
    },
    {
     "name": "stdout",
     "output_type": "stream",
     "text": [
      "# Testing prompt index 1\n",
      "Prompt to be tested:\n",
      "// You are given a piece of buggy code. Your task is to fix the error, and generate the corrected code. Fix the following code:\n",
      "{prompt}\n",
      "\n"
     ]
    },
    {
     "data": {
      "application/vnd.jupyter.widget-view+json": {
       "model_id": "ade9e875ff98484da30c7e046b4495f0",
       "version_major": 2,
       "version_minor": 0
      },
      "text/plain": [
       "HTML(value=\"<h2 style='font-weight: bold; border-bottom: 1px dotted;'>Loading 350M (Salesforce/codegen-350M-mu…"
      ]
     },
     "metadata": {},
     "output_type": "display_data"
    },
    {
     "name": "stdout",
     "output_type": "stream",
     "text": [
      "## Loading 350M (Salesforce/codegen-350M-multi)\n",
      "[2024-06-01@21:57:43|model.device] Starting timer.\n",
      "Configuring torch device...\n",
      "Using device: cuda:0 aka cuda:0\n",
      "[2024-06-01@21:57:43|model.device] Time elapsed: ~0s\n",
      "[2024-06-01@21:57:43|model.tokenizer] Starting timer.\n",
      "[2024-06-01@21:57:43|model.tokenizer] Time elapsed: 223ms\n",
      "[2024-06-01@21:57:43|model.model] Starting timer.\n",
      "Obtaining model...\n",
      "[2024-06-01@21:57:48|model.model] Time elapsed: 4s 902ms\n",
      "Opening ./output/bugs2fix/prompt1/codegen1-multi-350M.output...\n",
      "95 entries found already, skipping that many...\n"
     ]
    },
    {
     "data": {
      "application/vnd.jupyter.widget-view+json": {
       "model_id": "ee9c0ef069264b978b26690de7685819",
       "version_major": 2,
       "version_minor": 0
      },
      "text/plain": [
       "VBox(children=(IntProgress(value=0, description='Progress:'), Label(value='Estimated time remaining: calculati…"
      ]
     },
     "metadata": {},
     "output_type": "display_data"
    },
    {
     "name": "stdout",
     "output_type": "stream",
     "text": [
      "Done, 11s 569ms elapsed.\n"
     ]
    },
    {
     "data": {
      "application/vnd.jupyter.widget-view+json": {
       "model_id": "1490b048af1642ed8d079aa014e272e7",
       "version_major": 2,
       "version_minor": 0
      },
      "text/plain": [
       "HTML(value=\"<h2 style='font-weight: bold; border-bottom: 1px dotted;'>Loading 2B (Salesforce/codegen-2B-multi)…"
      ]
     },
     "metadata": {},
     "output_type": "display_data"
    },
    {
     "name": "stdout",
     "output_type": "stream",
     "text": [
      "## Loading 2B (Salesforce/codegen-2B-multi)\n",
      "[2024-06-01@21:58:00|model.device] Starting timer.\n",
      "Configuring torch device...\n",
      "Using device: cuda:0 aka cuda:0\n",
      "[2024-06-01@21:58:00|model.device] Time elapsed: ~0s\n",
      "[2024-06-01@21:58:00|model.tokenizer] Starting timer.\n",
      "[2024-06-01@21:58:00|model.tokenizer] Time elapsed: 211ms\n",
      "[2024-06-01@21:58:00|model.model] Starting timer.\n",
      "Obtaining model...\n",
      "[2024-06-01@21:58:36|model.model] Time elapsed: 35s 472ms\n",
      "Opening ./output/bugs2fix/prompt1/codegen1-multi-2B.output...\n",
      "95 entries found already, skipping that many...\n"
     ]
    },
    {
     "data": {
      "application/vnd.jupyter.widget-view+json": {
       "model_id": "ce718ed1db3f407b941298fb20e695e7",
       "version_major": 2,
       "version_minor": 0
      },
      "text/plain": [
       "VBox(children=(IntProgress(value=0, description='Progress:'), Label(value='Estimated time remaining: calculati…"
      ]
     },
     "metadata": {},
     "output_type": "display_data"
    },
    {
     "name": "stdout",
     "output_type": "stream",
     "text": [
      "Done, 25s 153ms elapsed.\n"
     ]
    },
    {
     "data": {
      "application/vnd.jupyter.widget-view+json": {
       "model_id": "ae42a337d50c4c08a33f022b5c9c540b",
       "version_major": 2,
       "version_minor": 0
      },
      "text/plain": [
       "HTML(value=\"<h2 style='font-weight: bold; border-bottom: 1px dotted;'>Loading 6B (Salesforce/codegen-6B-multi)…"
      ]
     },
     "metadata": {},
     "output_type": "display_data"
    },
    {
     "name": "stdout",
     "output_type": "stream",
     "text": [
      "## Loading 6B (Salesforce/codegen-6B-multi)\n",
      "[2024-06-01@21:59:01|model.device] Starting timer.\n",
      "Configuring torch device...\n",
      "Using device: cuda:0 aka cuda:0\n",
      "[2024-06-01@21:59:01|model.device] Time elapsed: ~0s\n",
      "[2024-06-01@21:59:01|model.tokenizer] Starting timer.\n",
      "[2024-06-01@21:59:02|model.tokenizer] Time elapsed: 171ms\n",
      "[2024-06-01@21:59:02|model.model] Starting timer.\n",
      "Obtaining model...\n"
     ]
    },
    {
     "name": "stderr",
     "output_type": "stream",
     "text": [
      "WARNING:root:Some parameters are on the meta device device because they were offloaded to the cpu.\n"
     ]
    },
    {
     "name": "stdout",
     "output_type": "stream",
     "text": [
      "[2024-06-01@22:00:28|model.model] Time elapsed: 1min 26s\n",
      "Opening ./output/bugs2fix/prompt1/codegen1-multi-6B.output...\n",
      "95 entries found already, skipping that many...\n"
     ]
    },
    {
     "data": {
      "application/vnd.jupyter.widget-view+json": {
       "model_id": "4ef24afd42814c6f90f83da59a218ce4",
       "version_major": 2,
       "version_minor": 0
      },
      "text/plain": [
       "VBox(children=(IntProgress(value=0, description='Progress:'), Label(value='Estimated time remaining: calculati…"
      ]
     },
     "metadata": {},
     "output_type": "display_data"
    },
    {
     "name": "stdout",
     "output_type": "stream",
     "text": [
      "Done, 4min 56s elapsed.\n"
     ]
    },
    {
     "data": {
      "application/vnd.jupyter.widget-view+json": {
       "model_id": "e6a438b2be684dd88fd3f92a428a9ae5",
       "version_major": 2,
       "version_minor": 0
      },
      "text/plain": [
       "HTML(value=\"<h2 style='font-weight: bold; border-bottom: 1px dotted;'>Loading 16B (Salesforce/codegen-16B-mult…"
      ]
     },
     "metadata": {},
     "output_type": "display_data"
    },
    {
     "name": "stdout",
     "output_type": "stream",
     "text": [
      "## Loading 16B (Salesforce/codegen-16B-multi)\n",
      "[2024-06-01@22:05:25|model.device] Starting timer.\n",
      "Configuring torch device...\n",
      "Using device: cuda:0 aka cuda:0\n",
      "[2024-06-01@22:05:25|model.device] Time elapsed: ~0s\n",
      "[2024-06-01@22:05:25|model.tokenizer] Starting timer.\n",
      "[2024-06-01@22:05:25|model.tokenizer] Time elapsed: 262ms\n",
      "[2024-06-01@22:05:25|model.model] Starting timer.\n",
      "Obtaining model...\n"
     ]
    },
    {
     "name": "stderr",
     "output_type": "stream",
     "text": [
      "WARNING:root:Some parameters are on the meta device device because they were offloaded to the cpu.\n"
     ]
    },
    {
     "name": "stdout",
     "output_type": "stream",
     "text": [
      "[2024-06-01@22:06:03|model.model] Time elapsed: 38s 159ms\n",
      "Opening ./output/bugs2fix/prompt1/codegen1-multi-16B.output...\n",
      "95 entries found already, skipping that many...\n"
     ]
    },
    {
     "data": {
      "application/vnd.jupyter.widget-view+json": {
       "model_id": "3fe855e39a904a0cac89ee09303286c9",
       "version_major": 2,
       "version_minor": 0
      },
      "text/plain": [
       "VBox(children=(IntProgress(value=0, description='Progress:'), Label(value='Estimated time remaining: calculati…"
      ]
     },
     "metadata": {},
     "output_type": "display_data"
    },
    {
     "name": "stdout",
     "output_type": "stream",
     "text": [
      "Done, 29min 31s elapsed.\n"
     ]
    }
   ],
   "source": [
    "runner.run_battery(\n",
    "    family=ModelFamily.CodeGen1.multi\n",
    ")"
   ]
  },
  {
   "cell_type": "markdown",
   "id": "56386cc0-f179-41e1-998c-3aeec8f0dbd8",
   "metadata": {},
   "source": [
    "# Interpret Output"
   ]
  },
  {
   "cell_type": "code",
   "execution_count": 5,
   "id": "ea737c59-fff7-4083-804c-5b6afa5e1ae8",
   "metadata": {},
   "outputs": [],
   "source": [
    "import metric\n",
    "runner.init_render(family=ModelFamily.CodeGen1.multi)"
   ]
  },
  {
   "cell_type": "markdown",
   "id": "6401e9e0-e997-47e0-8487-c12c5c883655",
   "metadata": {},
   "source": [
    "## Metric: Accuracy (Exact Match)"
   ]
  },
  {
   "cell_type": "code",
   "execution_count": 6,
   "id": "d04208ed-600c-40a5-9574-1c18e5cb321c",
   "metadata": {},
   "outputs": [
    {
     "name": "stdout",
     "output_type": "stream",
     "text": [
      "Saved figure to ./figs/b2f-1.png\n"
     ]
    },
    {
     "data": {
      "image/png": "[encoded data removed]",
      "text/plain": [
       "<Figure size 1000x600 with 1 Axes>"
      ]
     },
     "metadata": {},
     "output_type": "display_data"
    },
    {
     "data": {
      "text/plain": [
       "{'prompt0': [[0.0], [0.0], [0.0], [0.0]],\n",
       " 'prompt1': [[0.0], [0.0], [0.0], [0.0]]}"
      ]
     },
     "execution_count": 6,
     "metadata": {},
     "output_type": "execute_result"
    }
   ],
   "source": [
    "runner.render_metric(metric.ExactMatch, save=\"./figs/b2f-1.png\")"
   ]
  },
  {
   "cell_type": "markdown",
   "id": "6db6af9c-3041-490d-9eb8-edee5c4d4376",
   "metadata": {},
   "source": [
    "## Metric: BLEU"
   ]
  },
  {
   "cell_type": "code",
   "execution_count": 7,
   "id": "db35e9e2-4d64-4371-a55b-baf0b032f265",
   "metadata": {},
   "outputs": [
    {
     "name": "stdout",
     "output_type": "stream",
     "text": [
      "Saved figure to ./figs/b2f-2.png\n"
     ]
    },
    {
     "data": {
      "image/png": "[encoded data removed]",
      "text/plain": [
       "<Figure size 1000x600 with 1 Axes>"
      ]
     },
     "metadata": {},
     "output_type": "display_data"
    },
    {
     "data": {
      "text/plain": [
       "{'prompt0': [[0.48820137569847905],\n",
       "  [0.5006341113747632],\n",
       "  [0.45705067969834523],\n",
       "  [0.5606953700959482]],\n",
       " 'prompt1': [[0.14156945771243312],\n",
       "  [0.18010279725351888],\n",
       "  [0.22966604098260265],\n",
       "  [0.17465742390969388]]}"
      ]
     },
     "execution_count": 7,
     "metadata": {},
     "output_type": "execute_result"
    }
   ],
   "source": [
    "runner.render_metric(metric.BLEU, save=\"./figs/b2f-2.png\")"
   ]
  },
  {
   "cell_type": "markdown",
   "id": "f2227b28-9aa2-4d97-ae6e-5966ece6f557",
   "metadata": {},
   "source": [
    "## Metric: CodeBLEU"
   ]
  },
  {
   "cell_type": "code",
   "execution_count": 8,
   "id": "bb2ad578-3026-4c4e-a9fb-c927f2163f92",
   "metadata": {},
   "outputs": [
    {
     "name": "stderr",
     "output_type": "stream",
     "text": [
      "/usr/local/lib/python3.8/dist-packages/tree_sitter/__init__.py:36: FutureWarning: Language(path, name) is deprecated. Use Language(ptr, name) instead.\n",
      "  warn(\"{} is deprecated. Use {} instead.\".format(old, new), FutureWarning)\n"
     ]
    },
    {
     "name": "stdout",
     "output_type": "stream",
     "text": [
      "Saved figure to ./figs/b2f-3.png\n"
     ]
    },
    {
     "data": {
      "image/png": "[encoded data removed]",
      "text/plain": [
       "<Figure size 1000x600 with 1 Axes>"
      ]
     },
     "metadata": {},
     "output_type": "display_data"
    },
    {
     "data": {
      "text/plain": [
       "{'prompt0': [[0.6145034616836114],\n",
       "  [0.6463875095979323],\n",
       "  [0.5705027739851157],\n",
       "  [0.6491634904813729]],\n",
       " 'prompt1': [[0.18729370443409935],\n",
       "  [0.2634117729357921],\n",
       "  [0.31388813840300545],\n",
       "  [0.265831897678522]]}"
      ]
     },
     "execution_count": 8,
     "metadata": {},
     "output_type": "execute_result"
    }
   ],
   "source": [
    "runner.render_metric(metric.CodeBLEUJava, save=\"./figs/b2f-3.png\")"
   ]
  },
  {
   "cell_type": "code",
   "execution_count": null,
   "id": "01b4df8b-8952-40ad-b40b-f48b624cbc8f",
   "metadata": {},
   "outputs": [],
   "source": []
  }
 ],
 "metadata": {
  "kernelspec": {
   "display_name": "Python 3",
   "language": "python",
   "name": "python3"
  },
  "language_info": {
   "codemirror_mode": {
    "name": "ipython",
    "version": 3
   },
   "file_extension": ".py",
   "mimetype": "text/x-python",
   "name": "python",
   "nbconvert_exporter": "python",
   "pygments_lexer": "ipython3",
   "version": "3.8.10"
  }
 },
 "nbformat": 4,
 "nbformat_minor": 5
}
