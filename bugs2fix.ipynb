{
 "cells": [
  {
   "cell_type": "markdown",
   "id": "4ac348e1-2ebd-4298-8d1e-abcc3d159d7f",
   "metadata": {},
   "source": [
    "# Common Constants"
   ]
  },
  {
   "cell_type": "code",
   "execution_count": 1,
   "id": "96dcb753-0341-472e-b082-eca3db8dcc4a",
   "metadata": {},
   "outputs": [],
   "source": [
    "from run_battery import BatteryRunner, BatteryConfigs\n",
    "\n",
    "runner = BatteryRunner.of(BatteryConfigs.Bugs2Fix)"
   ]
  },
  {
   "cell_type": "code",
   "execution_count": 2,
   "id": "b83eebff-de8e-4c69-bf22-544a23a6710b",
   "metadata": {},
   "outputs": [
    {
     "name": "stdout",
     "output_type": "stream",
     "text": [
      "Loaded 100 cases!\n"
     ]
    }
   ],
   "source": [
    "runner.load_cases()"
   ]
  },
  {
   "cell_type": "code",
   "execution_count": 3,
   "id": "2bc4643a-d810-4e94-bc36-ba452ae9561c",
   "metadata": {},
   "outputs": [],
   "source": [
    "from model_wrapper import ModelFamily"
   ]
  },
  {
   "cell_type": "markdown",
   "id": "00e7c680-4188-434c-8d6f-09d872fef397",
   "metadata": {
    "jp-MarkdownHeadingCollapsed": true
   },
   "source": [
    "# Generate Output"
   ]
  },
  {
   "cell_type": "code",
   "execution_count": 4,
   "id": "e5954682-cfba-4820-8f63-17e35922b2d9",
   "metadata": {
    "scrolled": true
   },
   "outputs": [
    {
     "data": {
      "application/vnd.jupyter.widget-view+json": {
       "model_id": "f65e21bf0d0a424d9265d0b16e60188d",
       "version_major": 2,
       "version_minor": 0
      },
      "text/plain": [
       "HTML(value=\"<h1 style='font-weight: bold; border-bottom: 1px solid;'>Testing prompt index 0</h1>\")"
      ]
     },
     "metadata": {},
     "output_type": "display_data"
    },
    {
     "name": "stdout",
     "output_type": "stream",
     "text": [
      "# Testing prompt index 0\n",
      "Prompt to be tested:\n",
      "// the buggy version of the code\n",
      "{prompt}\n",
      "// the fixed version of the code\n",
      "\n"
     ]
    },
    {
     "data": {
      "application/vnd.jupyter.widget-view+json": {
       "model_id": "3a62d403c1d849b18cd74d2b5e04ed3d",
       "version_major": 2,
       "version_minor": 0
      },
      "text/plain": [
       "HTML(value=\"<h2 style='font-weight: bold; border-bottom: 1px dotted;'>Loading 350M (Salesforce/codegen-350M-mu…"
      ]
     },
     "metadata": {},
     "output_type": "display_data"
    },
    {
     "name": "stdout",
     "output_type": "stream",
     "text": [
      "## Loading 350M (Salesforce/codegen-350M-multi)\n",
      "No new cases necessary to generate, not loading model\n"
     ]
    },
    {
     "data": {
      "application/vnd.jupyter.widget-view+json": {
       "model_id": "b32f58916a8c4a0a9202dc5ac587e8ff",
       "version_major": 2,
       "version_minor": 0
      },
      "text/plain": [
       "HTML(value=\"<h2 style='font-weight: bold; border-bottom: 1px dotted;'>Loading 2B (Salesforce/codegen-2B-multi)…"
      ]
     },
     "metadata": {},
     "output_type": "display_data"
    },
    {
     "name": "stdout",
     "output_type": "stream",
     "text": [
      "## Loading 2B (Salesforce/codegen-2B-multi)\n",
      "No new cases necessary to generate, not loading model\n"
     ]
    },
    {
     "data": {
      "application/vnd.jupyter.widget-view+json": {
       "model_id": "c1b7f4c41fe84cc4b958e946f5688b49",
       "version_major": 2,
       "version_minor": 0
      },
      "text/plain": [
       "HTML(value=\"<h2 style='font-weight: bold; border-bottom: 1px dotted;'>Loading 6B (Salesforce/codegen-6B-multi)…"
      ]
     },
     "metadata": {},
     "output_type": "display_data"
    },
    {
     "name": "stdout",
     "output_type": "stream",
     "text": [
      "## Loading 6B (Salesforce/codegen-6B-multi)\n",
      "No new cases necessary to generate, not loading model\n"
     ]
    },
    {
     "data": {
      "application/vnd.jupyter.widget-view+json": {
       "model_id": "13e8c635699a441185068683684fadf0",
       "version_major": 2,
       "version_minor": 0
      },
      "text/plain": [
       "HTML(value=\"<h2 style='font-weight: bold; border-bottom: 1px dotted;'>Loading 16B (Salesforce/codegen-16B-mult…"
      ]
     },
     "metadata": {},
     "output_type": "display_data"
    },
    {
     "name": "stdout",
     "output_type": "stream",
     "text": [
      "## Loading 16B (Salesforce/codegen-16B-multi)\n",
      "No new cases necessary to generate, not loading model\n"
     ]
    },
    {
     "data": {
      "application/vnd.jupyter.widget-view+json": {
       "model_id": "83de9bafca6d48e095851262af203244",
       "version_major": 2,
       "version_minor": 0
      },
      "text/plain": [
       "HTML(value=\"<h1 style='font-weight: bold; border-bottom: 1px solid;'>Testing prompt index 1</h1>\")"
      ]
     },
     "metadata": {},
     "output_type": "display_data"
    },
    {
     "name": "stdout",
     "output_type": "stream",
     "text": [
      "# Testing prompt index 1\n",
      "Prompt to be tested:\n",
      "// You are given a piece of buggy code. Your task is to fix the error, and generate the corrected code. Fix the following code:\n",
      "{prompt}\n",
      "\n"
     ]
    },
    {
     "data": {
      "application/vnd.jupyter.widget-view+json": {
       "model_id": "5839273c97434927b354faa2b45ab7cb",
       "version_major": 2,
       "version_minor": 0
      },
      "text/plain": [
       "HTML(value=\"<h2 style='font-weight: bold; border-bottom: 1px dotted;'>Loading 350M (Salesforce/codegen-350M-mu…"
      ]
     },
     "metadata": {},
     "output_type": "display_data"
    },
    {
     "name": "stdout",
     "output_type": "stream",
     "text": [
      "## Loading 350M (Salesforce/codegen-350M-multi)\n",
      "No new cases necessary to generate, not loading model\n"
     ]
    },
    {
     "data": {
      "application/vnd.jupyter.widget-view+json": {
       "model_id": "8431d6fd2145418198e30ffbf73589eb",
       "version_major": 2,
       "version_minor": 0
      },
      "text/plain": [
       "HTML(value=\"<h2 style='font-weight: bold; border-bottom: 1px dotted;'>Loading 2B (Salesforce/codegen-2B-multi)…"
      ]
     },
     "metadata": {},
     "output_type": "display_data"
    },
    {
     "name": "stdout",
     "output_type": "stream",
     "text": [
      "## Loading 2B (Salesforce/codegen-2B-multi)\n",
      "No new cases necessary to generate, not loading model\n"
     ]
    },
    {
     "data": {
      "application/vnd.jupyter.widget-view+json": {
       "model_id": "9cf3dc979ea245bc93e5b33ad344324a",
       "version_major": 2,
       "version_minor": 0
      },
      "text/plain": [
       "HTML(value=\"<h2 style='font-weight: bold; border-bottom: 1px dotted;'>Loading 6B (Salesforce/codegen-6B-multi)…"
      ]
     },
     "metadata": {},
     "output_type": "display_data"
    },
    {
     "name": "stdout",
     "output_type": "stream",
     "text": [
      "## Loading 6B (Salesforce/codegen-6B-multi)\n",
      "No new cases necessary to generate, not loading model\n"
     ]
    },
    {
     "data": {
      "application/vnd.jupyter.widget-view+json": {
       "model_id": "85242a6c3b654986b56923a62cbbae69",
       "version_major": 2,
       "version_minor": 0
      },
      "text/plain": [
       "HTML(value=\"<h2 style='font-weight: bold; border-bottom: 1px dotted;'>Loading 16B (Salesforce/codegen-16B-mult…"
      ]
     },
     "metadata": {},
     "output_type": "display_data"
    },
    {
     "name": "stdout",
     "output_type": "stream",
     "text": [
      "## Loading 16B (Salesforce/codegen-16B-multi)\n",
      "No new cases necessary to generate, not loading model\n"
     ]
    },
    {
     "data": {
      "application/vnd.jupyter.widget-view+json": {
       "model_id": "4569fb97711349f1bbd50e2dc0633231",
       "version_major": 2,
       "version_minor": 0
      },
      "text/plain": [
       "HTML(value=\"<h1 style='font-weight: bold; border-bottom: 1px solid;'>Testing prompt index 2</h1>\")"
      ]
     },
     "metadata": {},
     "output_type": "display_data"
    },
    {
     "name": "stdout",
     "output_type": "stream",
     "text": [
      "# Testing prompt index 2\n",
      "Prompt to be tested:\n",
      "// You are given a piece of buggy code. Your task is to fix the error, and generate the corrected code. Fix the following code:\n",
      "{prompt}\n",
      "// The following code is correct:\n",
      "\n"
     ]
    },
    {
     "data": {
      "application/vnd.jupyter.widget-view+json": {
       "model_id": "ccf9b8137312404aad67ea523ed9730e",
       "version_major": 2,
       "version_minor": 0
      },
      "text/plain": [
       "HTML(value=\"<h2 style='font-weight: bold; border-bottom: 1px dotted;'>Loading 350M (Salesforce/codegen-350M-mu…"
      ]
     },
     "metadata": {},
     "output_type": "display_data"
    },
    {
     "name": "stdout",
     "output_type": "stream",
     "text": [
      "## Loading 350M (Salesforce/codegen-350M-multi)\n",
      "Opening ./output/bugs2fix/prompt2/codegen1-multi-350M.output...\n"
     ]
    },
    {
     "data": {
      "application/vnd.jupyter.widget-view+json": {
       "model_id": "d846a453300d4f85b5cfc2cc7d544aaf",
       "version_major": 2,
       "version_minor": 0
      },
      "text/plain": [
       "VBox(children=(IntProgress(value=0, description='Progress:'), Label(value='Estimated time remaining: calculati…"
      ]
     },
     "metadata": {},
     "output_type": "display_data"
    },
    {
     "name": "stdout",
     "output_type": "stream",
     "text": [
      "[2024-06-21@20:07:57|model.device] Starting timer.\n",
      "Configuring torch device...\n",
      "Using device: cuda:0 aka cuda:0\n",
      "[2024-06-21@20:07:57|model.device] Time elapsed: 30ms\n",
      "[2024-06-21@20:07:57|model.tokenizer] Starting timer.\n",
      "[2024-06-21@20:07:57|model.tokenizer] Time elapsed: 203ms\n",
      "[2024-06-21@20:07:57|model.model] Starting timer.\n",
      "Obtaining model...\n",
      "[2024-06-21@20:08:00|model.model] Time elapsed: 3s 237ms\n",
      "Done, 5min 11s elapsed.\n"
     ]
    },
    {
     "data": {
      "application/vnd.jupyter.widget-view+json": {
       "model_id": "d925fe5cff02441fafc970ab62110205",
       "version_major": 2,
       "version_minor": 0
      },
      "text/plain": [
       "HTML(value=\"<h2 style='font-weight: bold; border-bottom: 1px dotted;'>Loading 2B (Salesforce/codegen-2B-multi)…"
      ]
     },
     "metadata": {},
     "output_type": "display_data"
    },
    {
     "name": "stdout",
     "output_type": "stream",
     "text": [
      "## Loading 2B (Salesforce/codegen-2B-multi)\n",
      "Opening ./output/bugs2fix/prompt2/codegen1-multi-2B.output...\n"
     ]
    },
    {
     "data": {
      "application/vnd.jupyter.widget-view+json": {
       "model_id": "72faff514afa476f990a25f1d55129b4",
       "version_major": 2,
       "version_minor": 0
      },
      "text/plain": [
       "VBox(children=(IntProgress(value=0, description='Progress:'), Label(value='Estimated time remaining: calculati…"
      ]
     },
     "metadata": {},
     "output_type": "display_data"
    },
    {
     "name": "stdout",
     "output_type": "stream",
     "text": [
      "[2024-06-21@20:13:08|model.device] Starting timer.\n",
      "Configuring torch device...\n",
      "Using device: cuda:0 aka cuda:0\n",
      "[2024-06-21@20:13:08|model.device] Time elapsed: ~0s\n",
      "[2024-06-21@20:13:08|model.tokenizer] Starting timer.\n",
      "[2024-06-21@20:13:09|model.tokenizer] Time elapsed: 219ms\n",
      "[2024-06-21@20:13:09|model.model] Starting timer.\n",
      "Obtaining model...\n",
      "[2024-06-21@20:13:44|model.model] Time elapsed: 35s 73ms\n",
      "Done, 8min 86ms elapsed.\n"
     ]
    },
    {
     "data": {
      "application/vnd.jupyter.widget-view+json": {
       "model_id": "7aec6023e39c4c4d914fb76e282a057d",
       "version_major": 2,
       "version_minor": 0
      },
      "text/plain": [
       "HTML(value=\"<h2 style='font-weight: bold; border-bottom: 1px dotted;'>Loading 6B (Salesforce/codegen-6B-multi)…"
      ]
     },
     "metadata": {},
     "output_type": "display_data"
    },
    {
     "name": "stdout",
     "output_type": "stream",
     "text": [
      "## Loading 6B (Salesforce/codegen-6B-multi)\n",
      "Opening ./output/bugs2fix/prompt2/codegen1-multi-6B.output...\n"
     ]
    },
    {
     "data": {
      "application/vnd.jupyter.widget-view+json": {
       "model_id": "91ab6a6caceb4393bbdfdd332130a8f2",
       "version_major": 2,
       "version_minor": 0
      },
      "text/plain": [
       "VBox(children=(IntProgress(value=0, description='Progress:'), Label(value='Estimated time remaining: calculati…"
      ]
     },
     "metadata": {},
     "output_type": "display_data"
    },
    {
     "name": "stdout",
     "output_type": "stream",
     "text": [
      "[2024-06-21@20:21:09|model.device] Starting timer.\n",
      "Configuring torch device...\n",
      "Using device: cuda:0 aka cuda:0\n",
      "[2024-06-21@20:21:09|model.device] Time elapsed: ~0s\n",
      "[2024-06-21@20:21:09|model.tokenizer] Starting timer.\n",
      "[2024-06-21@20:21:09|model.tokenizer] Time elapsed: 289ms\n",
      "[2024-06-21@20:21:09|model.model] Starting timer.\n",
      "Obtaining model...\n"
     ]
    },
    {
     "name": "stderr",
     "output_type": "stream",
     "text": [
      "WARNING:root:Some parameters are on the meta device device because they were offloaded to the cpu.\n"
     ]
    },
    {
     "name": "stdout",
     "output_type": "stream",
     "text": [
      "[2024-06-21@20:22:34|model.model] Time elapsed: 1min 25s\n",
      "Done, 1hr 46min 59s elapsed.\n"
     ]
    },
    {
     "data": {
      "application/vnd.jupyter.widget-view+json": {
       "model_id": "23c4488334b04a3d9086e3ef584d24b8",
       "version_major": 2,
       "version_minor": 0
      },
      "text/plain": [
       "HTML(value=\"<h2 style='font-weight: bold; border-bottom: 1px dotted;'>Loading 16B (Salesforce/codegen-16B-mult…"
      ]
     },
     "metadata": {},
     "output_type": "display_data"
    },
    {
     "name": "stdout",
     "output_type": "stream",
     "text": [
      "## Loading 16B (Salesforce/codegen-16B-multi)\n",
      "Opening ./output/bugs2fix/prompt2/codegen1-multi-16B.output...\n"
     ]
    },
    {
     "data": {
      "application/vnd.jupyter.widget-view+json": {
       "model_id": "545a3e52fe2b40208ec151247187d653",
       "version_major": 2,
       "version_minor": 0
      },
      "text/plain": [
       "VBox(children=(IntProgress(value=0, description='Progress:'), Label(value='Estimated time remaining: calculati…"
      ]
     },
     "metadata": {},
     "output_type": "display_data"
    },
    {
     "name": "stdout",
     "output_type": "stream",
     "text": [
      "[2024-06-21@22:08:09|model.device] Starting timer.\n",
      "Configuring torch device...\n",
      "Using device: cuda:0 aka cuda:0\n",
      "[2024-06-21@22:08:09|model.device] Time elapsed: ~0s\n",
      "[2024-06-21@22:08:09|model.tokenizer] Starting timer.\n",
      "[2024-06-21@22:08:09|model.tokenizer] Time elapsed: 180ms\n",
      "[2024-06-21@22:08:09|model.model] Starting timer.\n",
      "Obtaining model...\n"
     ]
    },
    {
     "name": "stderr",
     "output_type": "stream",
     "text": [
      "WARNING:root:Some parameters are on the meta device device because they were offloaded to the cpu.\n"
     ]
    },
    {
     "name": "stdout",
     "output_type": "stream",
     "text": [
      "[2024-06-21@22:08:47|model.model] Time elapsed: 37s 666ms\n",
      "Done, 11hr 27min 56s elapsed.\n"
     ]
    }
   ],
   "source": [
    "runner.run_battery(\n",
    "    family=ModelFamily.CodeGen1.multi,\n",
    "    patch=False,\n",
    "    # patch=True,\n",
    ")"
   ]
  },
  {
   "cell_type": "markdown",
   "id": "56386cc0-f179-41e1-998c-3aeec8f0dbd8",
   "metadata": {},
   "source": [
    "# Interpret Output"
   ]
  },
  {
   "cell_type": "code",
   "execution_count": 4,
   "id": "ea737c59-fff7-4083-804c-5b6afa5e1ae8",
   "metadata": {},
   "outputs": [],
   "source": [
    "import metric\n",
    "runner.init_render(family=ModelFamily.CodeGen1.multi)"
   ]
  },
  {
   "cell_type": "markdown",
   "id": "ccf9a37f-1348-4922-9315-74eb62001f60",
   "metadata": {},
   "source": [
    "## Combined Graphs"
   ]
  },
  {
   "cell_type": "code",
   "execution_count": 5,
   "id": "f2db0345-0256-42e4-8f1d-2e5609d511f7",
   "metadata": {},
   "outputs": [
    {
     "name": "stderr",
     "output_type": "stream",
     "text": [
      "/usr/local/lib/python3.8/dist-packages/tree_sitter/__init__.py:36: FutureWarning: Language(path, name) is deprecated. Use Language(ptr, name) instead.\n",
      "  warn(\"{} is deprecated. Use {} instead.\".format(old, new), FutureWarning)\n"
     ]
    },
    {
     "name": "stdout",
     "output_type": "stream",
     "text": [
      "Saved figure to ./figs/b2f-all.png\n"
     ]
    },
    {
     "data": {
      "image/png": "[encoded data removed]",
      "text/plain": [
       "<Figure size 800x400 with 3 Axes>"
      ]
     },
     "metadata": {},
     "output_type": "display_data"
    },
    {
     "data": {
      "text/plain": [
       "[{'prompt0': [0.0, 0.0, 0.0, 0.0],\n",
       "  'prompt1': [0.0, 0.0, 0.0, 0.0],\n",
       "  'prompt2': [0.0, 0.0, 0.0, 0.01]},\n",
       " {'prompt0': [0.48820137569847905,\n",
       "   0.5006341113747632,\n",
       "   0.45705067969834523,\n",
       "   0.5606953700959482],\n",
       "  'prompt1': [0.14156945771243312,\n",
       "   0.18010279725351888,\n",
       "   0.22966604098260265,\n",
       "   0.17465742390969388],\n",
       "  'prompt2': [0.49204938063614584,\n",
       "   0.5989108295800651,\n",
       "   0.4641603674764887,\n",
       "   0.5688964125027325]},\n",
       " {'prompt0': [0.6139429235670194,\n",
       "   0.6463875095979323,\n",
       "   0.5699422358685238,\n",
       "   0.6491634904813729],\n",
       "  'prompt1': [0.18673316631750742,\n",
       "   0.2634117729357921,\n",
       "   0.3133276002864135,\n",
       "   0.2635897452121543],\n",
       "  'prompt2': [0.5934344968645976,\n",
       "   0.6908598542659203,\n",
       "   0.5498833751741166,\n",
       "   0.6594912699189425]}]"
      ]
     },
     "execution_count": 5,
     "metadata": {},
     "output_type": "execute_result"
    }
   ],
   "source": [
    "runner.render_metric_multi(\n",
    "    [ metric.ExactMatch, metric.BLEU, metric.CodeBLEUJava ],\n",
    "    save=\"./figs/b2f-all.png\",\n",
    ")"
   ]
  },
  {
   "cell_type": "markdown",
   "id": "6401e9e0-e997-47e0-8487-c12c5c883655",
   "metadata": {},
   "source": [
    "## Individual Graphs"
   ]
  },
  {
   "cell_type": "code",
   "execution_count": 7,
   "id": "d04208ed-600c-40a5-9574-1c18e5cb321c",
   "metadata": {},
   "outputs": [
    {
     "name": "stdout",
     "output_type": "stream",
     "text": [
      "Saved figure to ./figs/b2f-1.png\n"
     ]
    },
    {
     "data": {
      "image/png": "[encoded data removed]",
      "text/plain": [
       "<Figure size 1000x600 with 1 Axes>"
      ]
     },
     "metadata": {},
     "output_type": "display_data"
    },
    {
     "data": {
      "text/plain": [
       "{'prompt0': [[0.0], [0.0], [0.0], [0.0]],\n",
       " 'prompt1': [[0.0], [0.0], [0.0], [0.0]],\n",
       " 'prompt2': [[0.0], [0.0], [0.0], [0.01]]}"
      ]
     },
     "execution_count": 7,
     "metadata": {},
     "output_type": "execute_result"
    }
   ],
   "source": [
    "runner.render_metric(metric.ExactMatch, save=\"./figs/b2f-1.png\")\n",
    "runner.render_metric(metric.BLEU, save=\"./figs/b2f-2.png\")\n",
    "runner.render_metric(metric.CodeBLEUJava, save=\"./figs/b2f-3.png\")"
   ]
  }
 ],
 "metadata": {
  "kernelspec": {
   "display_name": "Python 3",
   "language": "python",
   "name": "python3"
  },
  "language_info": {
   "codemirror_mode": {
    "name": "ipython",
    "version": 3
   },
   "file_extension": ".py",
   "mimetype": "text/x-python",
   "name": "python",
   "nbconvert_exporter": "python",
   "pygments_lexer": "ipython3",
   "version": "3.8.10"
  }
 },
 "nbformat": 4,
 "nbformat_minor": 5
}
