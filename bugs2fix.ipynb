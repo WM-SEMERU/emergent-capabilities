{
 "cells": [
  {
   "cell_type": "markdown",
   "id": "4ac348e1-2ebd-4298-8d1e-abcc3d159d7f",
   "metadata": {},
   "source": [
    "# Common Constants"
   ]
  },
  {
   "cell_type": "code",
   "execution_count": 1,
   "id": "9425fe51-d422-4569-b1c9-50be7296ca3c",
   "metadata": {},
   "outputs": [],
   "source": [
    "import os\n",
    "\n",
    "BATTERY_DIR = \"./data/CodeXGLUE/Code-Code/code-refinement/data/small\"\n",
    "BATTERY_SRC = os.path.join(BATTERY_DIR, \"test.buggy-fixed.buggy\")\n",
    "TRUTH_SRC = os.path.join(BATTERY_DIR, \"test.buggy-fixed.fixed\")\n",
    "OUTPUT_DIR = \"./data/output/bugs2fix/\"\n",
    "CASE_COUNT = 95\n",
    "META_COUNT = 1 # number of trials per\n",
    "BUGS2FIX_PROMPT = \"// the buggy version of the code\\n{code}\\n// the fixed version of the code\\n\""
   ]
  },
  {
   "cell_type": "code",
   "execution_count": 2,
   "id": "b83eebff-de8e-4c69-bf22-544a23a6710b",
   "metadata": {},
   "outputs": [
    {
     "name": "stdout",
     "output_type": "stream",
     "text": [
      "Loaded 95 cases!\n"
     ]
    }
   ],
   "source": [
    "os.makedirs(OUTPUT_DIR, exist_ok=True)\n",
    "BATTERY = []\n",
    "with open(BATTERY_SRC, \"r\") as battery:\n",
    "    BATTERY = battery.readlines()[:CASE_COUNT]\n",
    "print(f\"Loaded {CASE_COUNT} cases!\")"
   ]
  },
  {
   "cell_type": "code",
   "execution_count": 3,
   "id": "b75174c7-366e-4f96-8633-6c82b5354ed6",
   "metadata": {},
   "outputs": [],
   "source": [
    "from timehelp import with_progress\n",
    "import time\n",
    "import ipywidgets as widgets\n",
    "from IPython.display import display\n",
    "def display_header(text):\n",
    "    header = widgets.HTML(value=f\"<h1 style='font-weight: bold;'>{text}</h1>\")\n",
    "    display(header)"
   ]
  },
  {
   "cell_type": "code",
   "execution_count": 4,
   "id": "b65b358c-3da0-4eff-81e9-a96cf7621af9",
   "metadata": {},
   "outputs": [
    {
     "name": "stdout",
     "output_type": "stream",
     "text": [
      "Importing torch...\n",
      "Importing HF...\n",
      "Importing python modules...\n",
      "Done!\n"
     ]
    }
   ],
   "source": [
    "print(\"Importing torch...\")\n",
    "import torch\n",
    "import torch.nn as nn\n",
    "print(\"Importing HF...\")\n",
    "from transformers import AutoTokenizer, AutoModelForCausalLM\n",
    "print(\"Importing python modules...\")\n",
    "from timehelp import time_start, time_end\n",
    "from model_wrapper import Model, ModelFamily, MultipleChoiceStrategy\n",
    "import re\n",
    "print(\"Done!\")"
   ]
  },
  {
   "cell_type": "markdown",
   "id": "00e7c680-4188-434c-8d6f-09d872fef397",
   "metadata": {},
   "source": [
    "# Generate Output"
   ]
  },
  {
   "cell_type": "code",
   "execution_count": 5,
   "id": "e5954682-cfba-4820-8f63-17e35922b2d9",
   "metadata": {},
   "outputs": [
    {
     "data": {
      "application/vnd.jupyter.widget-view+json": {
       "model_id": "3d420a5ff8e8462fbb3139986dfd8448",
       "version_major": 2,
       "version_minor": 0
      },
      "text/plain": [
       "HTML(value=\"<h1 style='font-weight: bold;'>Loading 350M (Salesforce/codegen-350M-multi)</h1>\")"
      ]
     },
     "metadata": {},
     "output_type": "display_data"
    },
    {
     "name": "stdout",
     "output_type": "stream",
     "text": [
      "[2024-05-17@04:13:14|model.device] Starting timer.\n",
      "Configuring torch device...\n",
      "Using device: cuda:0 aka cuda:0\n",
      "[2024-05-17@04:13:14|model.device] Time elapsed: 42ms\n",
      "[2024-05-17@04:13:14|model.tokenizer] Starting timer.\n",
      "[2024-05-17@04:13:14|model.tokenizer] Time elapsed: 235ms\n",
      "[2024-05-17@04:13:14|model.model] Starting timer.\n",
      "Obtaining model...\n",
      "[2024-05-17@04:13:18|model.model] Time elapsed: 3s 322ms\n"
     ]
    },
    {
     "data": {
      "application/vnd.jupyter.widget-view+json": {
       "model_id": "d8c6fe753b5c4336ac105f62c31e6379",
       "version_major": 2,
       "version_minor": 0
      },
      "text/plain": [
       "HBox(children=(IntProgress(value=0, description='Progress:', max=95), Label(value='Estimated time remaining: c…"
      ]
     },
     "metadata": {},
     "output_type": "display_data"
    },
    {
     "data": {
      "application/vnd.jupyter.widget-view+json": {
       "model_id": "580c71499e75468cbeadf3aaee253a5c",
       "version_major": 2,
       "version_minor": 0
      },
      "text/plain": [
       "HTML(value=\"<h1 style='font-weight: bold;'>Loading 2B (Salesforce/codegen-2B-multi)</h1>\")"
      ]
     },
     "metadata": {},
     "output_type": "display_data"
    },
    {
     "name": "stdout",
     "output_type": "stream",
     "text": [
      "[2024-05-17@04:18:17|model.device] Starting timer.\n",
      "Configuring torch device...\n",
      "Using device: cuda:0 aka cuda:0\n",
      "[2024-05-17@04:18:17|model.device] Time elapsed: ~0s\n",
      "[2024-05-17@04:18:17|model.tokenizer] Starting timer.\n",
      "[2024-05-17@04:18:17|model.tokenizer] Time elapsed: 199ms\n",
      "[2024-05-17@04:18:17|model.model] Starting timer.\n",
      "Obtaining model...\n",
      "[2024-05-17@04:18:25|model.model] Time elapsed: 8s 455ms\n"
     ]
    },
    {
     "data": {
      "application/vnd.jupyter.widget-view+json": {
       "model_id": "063490193a854b59b3d09c28ba1f29f6",
       "version_major": 2,
       "version_minor": 0
      },
      "text/plain": [
       "HBox(children=(IntProgress(value=0, description='Progress:', max=95), Label(value='Estimated time remaining: c…"
      ]
     },
     "metadata": {},
     "output_type": "display_data"
    },
    {
     "name": "stdout",
     "output_type": "stream",
     "text": [
      "!! max size might be exceeded !!\n",
      "inputs so far: // the buggy version of the code\n",
      "public TYPE_1 METHOD_1 ( TYPE_1 VAR_1 ) { VAR_2 [ ( ( VAR_1. position ) + 1 ) ] = isEmpty ( ) ; VAR_1. position += 1 ; VAR_3 = METHOD_2 ( VAR_1. position ) ; return VAR_1 ; }\n",
      "// the fixed version of the code\n",
      "public TYPE_1 METHOD_1 ( TYPE_1 VAR_1, TYPE_1 VAR_2 ) { VAR_3 = METHOD_2 ( VAR_1. position ) ; VAR_1. position += 1 ; VAR_1. position += 1 ; VAR_1. position += [ ... 2022 bytes abbreviated ... ] += 1 ; VAR_1. position += 1 ; VAR_1. position += 1 ; VAR_1. position += 1 ; VAR_1. position += 1 ; V\n",
      "next outputs:  position += 1 ; VAR_1. position += 1 ; VAR_1. position += 1 ; VAR_1. position += 1 ; VAR_1. position += 1 ; VAR_1. position += 1 ; V\n"
     ]
    },
    {
     "data": {
      "application/vnd.jupyter.widget-view+json": {
       "model_id": "559535046d5849dc847eb34cae8f2c11",
       "version_major": 2,
       "version_minor": 0
      },
      "text/plain": [
       "HTML(value=\"<h1 style='font-weight: bold;'>Loading 6B (Salesforce/codegen-6B-multi)</h1>\")"
      ]
     },
     "metadata": {},
     "output_type": "display_data"
    },
    {
     "name": "stdout",
     "output_type": "stream",
     "text": [
      "[2024-05-17@04:27:07|model.device] Starting timer.\n",
      "Configuring torch device...\n",
      "Using device: cuda:0 aka cuda:0\n",
      "[2024-05-17@04:27:07|model.device] Time elapsed: ~0s\n",
      "[2024-05-17@04:27:07|model.tokenizer] Starting timer.\n",
      "[2024-05-17@04:27:07|model.tokenizer] Time elapsed: 230ms\n",
      "[2024-05-17@04:27:07|model.model] Starting timer.\n",
      "Obtaining model...\n"
     ]
    },
    {
     "name": "stderr",
     "output_type": "stream",
     "text": [
      "WARNING:root:Some parameters are on the meta device device because they were offloaded to the cpu.\n"
     ]
    },
    {
     "name": "stdout",
     "output_type": "stream",
     "text": [
      "[2024-05-17@04:27:26|model.model] Time elapsed: 19s 421ms\n"
     ]
    },
    {
     "data": {
      "application/vnd.jupyter.widget-view+json": {
       "model_id": "b640c24103834636a906300a4221cded",
       "version_major": 2,
       "version_minor": 0
      },
      "text/plain": [
       "HBox(children=(IntProgress(value=0, description='Progress:', max=95), Label(value='Estimated time remaining: c…"
      ]
     },
     "metadata": {},
     "output_type": "display_data"
    },
    {
     "data": {
      "application/vnd.jupyter.widget-view+json": {
       "model_id": "f0bdcbf2e8eb47b7a3f97f1537335fb6",
       "version_major": 2,
       "version_minor": 0
      },
      "text/plain": [
       "HTML(value=\"<h1 style='font-weight: bold;'>Loading 16B (Salesforce/codegen-16B-multi)</h1>\")"
      ]
     },
     "metadata": {},
     "output_type": "display_data"
    },
    {
     "name": "stdout",
     "output_type": "stream",
     "text": [
      "[2024-05-17@06:04:15|model.device] Starting timer.\n",
      "Configuring torch device...\n",
      "Using device: cuda:0 aka cuda:0\n",
      "[2024-05-17@06:04:15|model.device] Time elapsed: ~0s\n",
      "[2024-05-17@06:04:15|model.tokenizer] Starting timer.\n",
      "[2024-05-17@06:04:16|model.tokenizer] Time elapsed: 238ms\n",
      "[2024-05-17@06:04:16|model.model] Starting timer.\n",
      "Obtaining model...\n"
     ]
    },
    {
     "name": "stderr",
     "output_type": "stream",
     "text": [
      "WARNING:root:Some parameters are on the meta device device because they were offloaded to the cpu.\n"
     ]
    },
    {
     "name": "stdout",
     "output_type": "stream",
     "text": [
      "[2024-05-17@06:07:30|model.model] Time elapsed: 3min 13s\n"
     ]
    },
    {
     "data": {
      "application/vnd.jupyter.widget-view+json": {
       "model_id": "6846f0093c1d42cbaa6fff1fdc2ec808",
       "version_major": 2,
       "version_minor": 0
      },
      "text/plain": [
       "HBox(children=(IntProgress(value=0, description='Progress:', max=95), Label(value='Estimated time remaining: c…"
      ]
     },
     "metadata": {},
     "output_type": "display_data"
    }
   ],
   "source": [
    "for key, model_name in ModelFamily.CodeGen1.multi.items():\n",
    "    display_header(f\"Loading {key} ({model_name})\")\n",
    "    torch.cuda.empty_cache()\n",
    "    model = Model(model_name)\n",
    "    model.configure(time=True)\n",
    "    model.verbose = False\n",
    "    \n",
    "    @with_progress(len(BATTERY))\n",
    "    def iterate(output_file, *, step=None):\n",
    "        buggy = BATTERY[step]\n",
    "        specific_prompt = BUGS2FIX_PROMPT.format(code=buggy.strip())\n",
    "        output = model.generate_until(specific_prompt, stops=[\"\\n\"])\n",
    "        decoded = model.decode(output)\n",
    "        output_file.write(decoded + \"\\n\")\n",
    "\n",
    "        del model.inputs, output\n",
    "\n",
    "    for i in range(META_COUNT):\n",
    "        if META_COUNT == 1:\n",
    "            base_name = f\"codegen1-multi-{key}.output\"\n",
    "        else:\n",
    "            base_name = f\"codegen1-multi-{key}-{i}.output\"\n",
    "        output_path = os.path.join(OUTPUT_DIR, base_name)\n",
    "        with open(output_path, \"w\") as output_file:\n",
    "            iterate(output_file)\n",
    "    \n",
    "    model.free()"
   ]
  },
  {
   "cell_type": "markdown",
   "id": "56386cc0-f179-41e1-998c-3aeec8f0dbd8",
   "metadata": {},
   "source": [
    "# Interpret Output"
   ]
  },
  {
   "cell_type": "code",
   "execution_count": 6,
   "id": "ea737c59-fff7-4083-804c-5b6afa5e1ae8",
   "metadata": {},
   "outputs": [],
   "source": [
    "import matplotlib.pyplot as plt\n",
    "from render_output import OutputRenderer"
   ]
  },
  {
   "cell_type": "code",
   "execution_count": 7,
   "id": "57ccd100-c1f6-4311-b812-db06bf946615",
   "metadata": {},
   "outputs": [],
   "source": [
    "with open(TRUTH_SRC, \"r\") as truth_file:\n",
    "    answer_key = truth_file.readlines()[:CASE_COUNT]\n",
    "\n",
    "family_answers = {}\n",
    "for key, model_name in ModelFamily.CodeGen1.multi.items():\n",
    "    output_path = os.path.join(OUTPUT_DIR, f\"codegen1-multi-{key}.output\")\n",
    "    with open(output_path, \"r\") as output_file:\n",
    "        answers = output_file.readlines()\n",
    "    family_answers[key] = answers"
   ]
  },
  {
   "cell_type": "markdown",
   "id": "6401e9e0-e997-47e0-8487-c12c5c883655",
   "metadata": {},
   "source": [
    "## Metric: Accuracy (Exact Match)"
   ]
  },
  {
   "cell_type": "code",
   "execution_count": 8,
   "id": "ceca2e5f-2cf1-409f-a3b3-0eed0811ead6",
   "metadata": {},
   "outputs": [],
   "source": [
    "accuracy_em_metric = []\n",
    "for key, answers in family_answers.items():\n",
    "    correct = 0\n",
    "    for answer, truth in zip(answers, answer_key):\n",
    "        if answer.strip() == truth.strip():\n",
    "            correct += 1\n",
    "    accuracy_em_metric.append(correct)"
   ]
  },
  {
   "cell_type": "code",
   "execution_count": 9,
   "id": "d04208ed-600c-40a5-9574-1c18e5cb321c",
   "metadata": {},
   "outputs": [
    {
     "data": {
      "image/png": "[encoded data removed]",
      "text/plain": [
       "<Figure size 1000x600 with 1 Axes>"
      ]
     },
     "metadata": {},
     "output_type": "display_data"
    }
   ],
   "source": [
    "bugs2fix_renderer_em = OutputRenderer(\n",
    "    baseline=0.0,\n",
    "    metric=\"Accuracy%\",\n",
    ")\n",
    "\n",
    "bugs2fix_renderer_em.render(ys=accuracy_em_metric)"
   ]
  },
  {
   "cell_type": "markdown",
   "id": "6db6af9c-3041-490d-9eb8-edee5c4d4376",
   "metadata": {},
   "source": [
    "## Metric: BLEU"
   ]
  },
  {
   "cell_type": "code",
   "execution_count": 10,
   "id": "db35e9e2-4d64-4371-a55b-baf0b032f265",
   "metadata": {},
   "outputs": [],
   "source": [
    "from bleu import _bleu\n",
    "bleu_metrics = []\n",
    "bleu_baseline = _bleu(answer_key, BATTERY)\n",
    "for key, answers in family_answers.items():\n",
    "    bleu_metrics.append(_bleu(answer_key, answers))"
   ]
  },
  {
   "cell_type": "code",
   "execution_count": 11,
   "id": "febd5f59-0989-46b1-8763-ec72e848e184",
   "metadata": {},
   "outputs": [
    {
     "data": {
      "image/png": "[encoded data removed]",
      "text/plain": [
       "<Figure size 1000x600 with 1 Axes>"
      ]
     },
     "metadata": {},
     "output_type": "display_data"
    }
   ],
   "source": [
    "bugs2fix_renderer_em = OutputRenderer(\n",
    "    baseline=bleu_baseline,\n",
    "    metric=\"BLEU\",\n",
    ")\n",
    "\n",
    "bugs2fix_renderer_em.render(ys=bleu_metrics)"
   ]
  },
  {
   "cell_type": "markdown",
   "id": "f2227b28-9aa2-4d97-ae6e-5966ece6f557",
   "metadata": {},
   "source": [
    "## Metric: CodeBLEU"
   ]
  },
  {
   "cell_type": "code",
   "execution_count": 12,
   "id": "ec46e1ec-62cb-4a5c-8e4a-717206a1d59f",
   "metadata": {},
   "outputs": [
    {
     "name": "stdout",
     "output_type": "stream",
     "text": [
      "Requirement already satisfied: codebleu in /usr/local/lib/python3.8/dist-packages (0.6.1)\n",
      "Requirement already satisfied: tree-sitter<0.22.0,>=0.20.0 in /usr/local/lib/python3.8/dist-packages (from codebleu) (0.21.3)\n",
      "Requirement already satisfied: setuptools>=61.0.0 in /usr/local/lib/python3.8/dist-packages (from codebleu) (65.3.0)\n",
      "\u001b[33mWARNING: Running pip as the 'root' user can result in broken permissions and conflicting behaviour with the system package manager. It is recommended to use a virtual environment instead: https://pip.pypa.io/warnings/venv\u001b[0m\u001b[33m\n",
      "\u001b[0m"
     ]
    }
   ],
   "source": [
    "!#pip install codebleu"
   ]
  },
  {
   "cell_type": "code",
   "execution_count": 13,
   "id": "bb2ad578-3026-4c4e-a9fb-c927f2163f92",
   "metadata": {},
   "outputs": [
    {
     "name": "stderr",
     "output_type": "stream",
     "text": [
      "/usr/local/lib/python3.8/dist-packages/tree_sitter/__init__.py:36: FutureWarning: Language(path, name) is deprecated. Use Language(ptr, name) instead.\n",
      "  warn(\"{} is deprecated. Use {} instead.\".format(old, new), FutureWarning)\n"
     ]
    }
   ],
   "source": [
    "from codebleu import calc_codebleu\n",
    "\n",
    "def _codebleu(references, predictions):\n",
    "    result = calc_codebleu(references, predictions, lang=\"java\")\n",
    "    return result[\"codebleu\"]\n",
    "\n",
    "codebleu_baseline = _codebleu(answer_key, BATTERY)\n",
    "\n",
    "codebleu_metrics = []\n",
    "for key, answers in family_answers.items():\n",
    "    codebleu_metrics.append(_codebleu(answer_key, answers))"
   ]
  },
  {
   "cell_type": "code",
   "execution_count": 14,
   "id": "d47d82e4-4533-4c4c-a749-8b2cf0f5c582",
   "metadata": {},
   "outputs": [
    {
     "data": {
      "image/png": "[encoded data removed]",
      "text/plain": [
       "<Figure size 1000x600 with 1 Axes>"
      ]
     },
     "metadata": {},
     "output_type": "display_data"
    }
   ],
   "source": [
    "bugs2fix_renderer_em = OutputRenderer(\n",
    "    baseline=codebleu_baseline,\n",
    "    metric=\"CodeBLEU\",\n",
    ")\n",
    "\n",
    "bugs2fix_renderer_em.render(ys=codebleu_metrics)"
   ]
  },
  {
   "cell_type": "code",
   "execution_count": null,
   "id": "d6497101-b040-453d-b5a9-04da65ec2f8e",
   "metadata": {},
   "outputs": [],
   "source": []
  },
  {
   "cell_type": "code",
   "execution_count": null,
   "id": "4741bf42-c11a-463f-bf56-ebadf1f5ac86",
   "metadata": {},
   "outputs": [],
   "source": []
  }
 ],
 "metadata": {
  "kernelspec": {
   "display_name": "Python 3",
   "language": "python",
   "name": "python3"
  },
  "language_info": {
   "codemirror_mode": {
    "name": "ipython",
    "version": 3
   },
   "file_extension": ".py",
   "mimetype": "text/x-python",
   "name": "python",
   "nbconvert_exporter": "python",
   "pygments_lexer": "ipython3",
   "version": "3.8.10"
  }
 },
 "nbformat": 4,
 "nbformat_minor": 5
}
