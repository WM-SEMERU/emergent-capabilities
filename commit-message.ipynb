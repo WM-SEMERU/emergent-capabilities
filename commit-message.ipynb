{
 "cells": [
  {
   "cell_type": "markdown",
   "id": "264797cf-c1d0-4041-aa49-842324522403",
   "metadata": {},
   "source": [
    "# Common Constants"
   ]
  },
  {
   "cell_type": "code",
   "execution_count": 1,
   "id": "30c905ae-b80d-4d65-ac58-c39afdcb196a",
   "metadata": {},
   "outputs": [],
   "source": [
    "import os\n",
    "CASE_COUNT = 95\n",
    "META_COUNT = None # number of trials per\n",
    "COMMIT_PROMPT_INDEX = 0\n",
    "\n",
    "BATTERY_DIR = \"./data/commits/\"\n",
    "BATTERY_SRC = os.path.join(\n",
    "    BATTERY_DIR,\n",
    "    \"commit_message_generation_codisum.json\"\n",
    ")\n",
    "OUTPUT_DIR = f\"./output/commit/prompt{COMMIT_PROMPT_INDEX}\"\n",
    "\n",
    "    # \"{prompt}\\n// \",\n",
    "    # \"// diff of changes\\n{prompt}\\n// summary: \",\n",
    "COMMIT_PROMPTS = [\n",
    "    \"/* diff of changes\\n{prompt}\\n*/\\n// a summary of the above diff is:\\n// -\"\n",
    "]\n",
    "\n",
    "COMMIT_PROMPT = COMMIT_PROMPTS[COMMIT_PROMPT_INDEX]"
   ]
  },
  {
   "cell_type": "code",
   "execution_count": 2,
   "id": "0659b8a4-71d9-4e8c-aba0-d58cb62e60ce",
   "metadata": {},
   "outputs": [
    {
     "name": "stdout",
     "output_type": "stream",
     "text": [
      "Loaded 95 cases!\n"
     ]
    }
   ],
   "source": [
    "os.makedirs(OUTPUT_DIR, exist_ok=True)\n",
    "BATTERY = []\n",
    "import json\n",
    "with open(BATTERY_SRC, \"r\") as battery:\n",
    "    test_cases = json.loads(battery.read())[\"cases\"][:CASE_COUNT]\n",
    "    BATTERY = [ obj[\"prompt\"].strip() for obj in test_cases ]\n",
    "print(f\"Loaded {len(BATTERY)} cases!\")"
   ]
  },
  {
   "cell_type": "code",
   "execution_count": 3,
   "id": "0f0a6c8c-a366-48de-8348-5a019cd0222e",
   "metadata": {},
   "outputs": [],
   "source": [
    "from timehelp import with_progress, display_header\n",
    "import time\n",
    "import ipywidgets as widgets\n",
    "from IPython.display import display"
   ]
  },
  {
   "cell_type": "code",
   "execution_count": 4,
   "id": "2dec0f80-ce37-4fb0-b706-b9a7e9c06a46",
   "metadata": {},
   "outputs": [
    {
     "name": "stdout",
     "output_type": "stream",
     "text": [
      "Importing torch...\n",
      "Importing HF...\n",
      "Importing python modules...\n",
      "Done!\n"
     ]
    }
   ],
   "source": [
    "print(\"Importing torch...\")\n",
    "import torch\n",
    "import torch.nn as nn\n",
    "print(\"Importing HF...\")\n",
    "from transformers import AutoTokenizer, AutoModelForCausalLM\n",
    "print(\"Importing python modules...\")\n",
    "from timehelp import time_start, time_end\n",
    "from model_wrapper import Model, ModelFamily, MultipleChoiceStrategy\n",
    "import re\n",
    "print(\"Done!\")"
   ]
  },
  {
   "cell_type": "markdown",
   "id": "750f419d-f179-42bc-ae6d-1476d01d4299",
   "metadata": {
    "jp-MarkdownHeadingCollapsed": true
   },
   "source": [
    "# Generate Output"
   ]
  },
  {
   "cell_type": "code",
   "execution_count": 5,
   "id": "6b9f4ab3-f30e-473c-8e5b-3543e750c791",
   "metadata": {},
   "outputs": [
    {
     "data": {
      "application/vnd.jupyter.widget-view+json": {
       "model_id": "80f9334051b14b188aa069cb7ee1807f",
       "version_major": 2,
       "version_minor": 0
      },
      "text/plain": [
       "HTML(value=\"<h1 style='font-weight: bold;'>Loading 350M (Salesforce/codegen-350M-multi)</h1>\")"
      ]
     },
     "metadata": {},
     "output_type": "display_data"
    },
    {
     "name": "stdout",
     "output_type": "stream",
     "text": [
      "# Loading 350M (Salesforce/codegen-350M-multi)\n",
      "[2024-05-22@01:30:55|model.device] Starting timer.\n",
      "Configuring torch device...\n",
      "Using device: cuda:0 aka cuda:0\n",
      "[2024-05-22@01:30:55|model.device] Time elapsed: 40ms\n",
      "[2024-05-22@01:30:55|model.tokenizer] Starting timer.\n",
      "[2024-05-22@01:30:55|model.tokenizer] Time elapsed: 266ms\n",
      "[2024-05-22@01:30:55|model.model] Starting timer.\n",
      "Obtaining model...\n",
      "[2024-05-22@01:30:58|model.model] Time elapsed: 3s 357ms\n",
      "Opening ./data/output/commit/prompt0/codegen1-multi-350M.output...\n",
      "95 entries found already, skipping that many...\n"
     ]
    },
    {
     "data": {
      "application/vnd.jupyter.widget-view+json": {
       "model_id": "9a97231c37674cb2abddfb44f26621f5",
       "version_major": 2,
       "version_minor": 0
      },
      "text/plain": [
       "VBox(children=(IntProgress(value=0, description='Progress:', max=95), Label(value='Estimated time remaining: c…"
      ]
     },
     "metadata": {},
     "output_type": "display_data"
    },
    {
     "name": "stdout",
     "output_type": "stream",
     "text": [
      "Done, ~0s elapsed.\n"
     ]
    },
    {
     "data": {
      "application/vnd.jupyter.widget-view+json": {
       "model_id": "a7eb7662dba545aba3884ac0c45e3875",
       "version_major": 2,
       "version_minor": 0
      },
      "text/plain": [
       "HTML(value=\"<h1 style='font-weight: bold;'>Loading 2B (Salesforce/codegen-2B-multi)</h1>\")"
      ]
     },
     "metadata": {},
     "output_type": "display_data"
    },
    {
     "name": "stdout",
     "output_type": "stream",
     "text": [
      "# Loading 2B (Salesforce/codegen-2B-multi)\n",
      "[2024-05-22@01:30:59|model.device] Starting timer.\n",
      "Configuring torch device...\n",
      "Using device: cuda:0 aka cuda:0\n",
      "[2024-05-22@01:30:59|model.device] Time elapsed: ~0s\n",
      "[2024-05-22@01:30:59|model.tokenizer] Starting timer.\n",
      "[2024-05-22@01:30:59|model.tokenizer] Time elapsed: 154ms\n",
      "[2024-05-22@01:30:59|model.model] Starting timer.\n",
      "Obtaining model...\n",
      "[2024-05-22@01:31:07|model.model] Time elapsed: 8s 761ms\n",
      "Opening ./data/output/commit/prompt0/codegen1-multi-2B.output...\n",
      "15 entries found already, skipping that many...\n"
     ]
    },
    {
     "data": {
      "application/vnd.jupyter.widget-view+json": {
       "model_id": "bd3e1052c59d4ead81733f730f5d9096",
       "version_major": 2,
       "version_minor": 0
      },
      "text/plain": [
       "VBox(children=(IntProgress(value=0, description='Progress:', max=95), Label(value='Estimated time remaining: c…"
      ]
     },
     "metadata": {},
     "output_type": "display_data"
    },
    {
     "name": "stdout",
     "output_type": "stream",
     "text": [
      "!! max size might be exceeded !!\n",
      "inputs so far: /* diff of changes\n",
      "diff --git a/core/common/src/main/java/alluxio/collections/IndexDefinition.java b/core/common/src/main/java/alluxio/collections/IndexDefinition.java\n",
      "index 6eaaade..fdab7ca 100644\n",
      "--- a/core/common/src/main/java/alluxio/collections/IndexDefinition.java\n",
      "+++ b/core/common/src/main/java/alluxio/collections/IndexDefinition.java\n",
      "@@ -11,6 +11,8 @@\n",
      " \n",
      " package alluxio.collections;\n",
      " \n",
      "+imp [ ... 2244 bytes abbreviated ... ] \n",
      "   private final ConcurrentHashMap<Object, T> mIndexMap;\n",
      "*/\n",
      "// a summary of the above diff is:\n",
      "// -\n",
      "Warning: Model returned no output (prompt may have been too large)\n",
      "!! max size might be exceeded !!\n",
      "inputs so far: /* diff of changes\n",
      "diff --git a/src/edu/stanford/nlp/parser/tools/ChangeBaseParserWeight.java b/src/edu/stanford/nlp/parser/tools/ChangeBaseParserWeight.java\n",
      "index f239265..d6eb5fe 100644\n",
      "--- a/src/edu/stanford/nlp/parser/tools/ChangeBaseParserWeight.java\n",
      "+++ b/src/edu/stanford/nlp/parser/tools/ChangeBaseParserWeight.java\n",
      "@@ -11,6 +11,8 @@ import edu.stanford.nlp.parser.lexparser.LexicalizedParser [ ... 1037 bytes abbreviated ... ] 11,6 +11,8 = -11,6 +11,8 = -11,6 +11,8 = -11,6 +11,8 = -11,6 +11,8 = -11,6 +11,8 = -11,6 +11,8 = -11\n",
      "!! max size might be exceeded !!\n",
      "inputs so far: /* diff of changes\n",
      "diff --git a/src/main/java/water/api/SummaryPage.java b/src/main/java/water/api/SummaryPage.java\n",
      "index e24810b9b..ff98ba352 100644\n",
      "--- a/src/main/java/water/api/SummaryPage.java\n",
      "+++ b/src/main/java/water/api/SummaryPage.java\n",
      "@@ -56,8 +56,8 @@ public class SummaryPage extends Request {\n",
      "     Response r = Response.done(res);\n",
      "     r.setBuilder(ROOT_OBJECT, new Builder() {\n",
      "       @Ov [ ... 1479 bytes abbreviated ... ] 8 @@ -56,8 + 56,8 @@ -56,8 + 56,8 @@ -56,8 + 56,8 @@ -56,8 + 56,8 @@ -56,8 + 56,8 @@ -56,8 + 56,8 @@\n",
      "!! max size might be exceeded !!\n",
      "inputs so far: /* diff of changes\n",
      "diff --git a/src/main/java/org/elasticsearch/indices/cluster/IndicesClusterStateService.java b/src/main/java/org/elasticsearch/indices/cluster/IndicesClusterStateService.java\n",
      "index 9bb2b69..6e2493e 100644\n",
      "--- a/src/main/java/org/elasticsearch/indices/cluster/IndicesClusterStateService.java\n",
      "+++ b/src/main/java/org/elasticsearch/indices/cluster/IndicesClusterStateService.java\n",
      "@@ - [ ... 1129 bytes abbreviated ... ] 1.53 -1.1.1.54 -1.1.1.55 -1.1.1.56 -1.1.1.57 -1.1.1.58 -1.1.1.59 -1.1.1.60 -1.1.1.61 -1.1.1.62 -1.1.\n",
      "!! max size might be exceeded !!\n",
      "inputs so far: /* diff of changes\n",
      "diff --git a/compiler/cli/src/org/jetbrains/jet/cli/js/K2JSCompiler.java b/compiler/cli/src/org/jetbrains/jet/cli/js/K2JSCompiler.java\n",
      "index 6898c93..a0e3346 100644\n",
      "--- a/compiler/cli/src/org/jetbrains/jet/cli/js/K2JSCompiler.java\n",
      "+++ b/compiler/cli/src/org/jetbrains/jet/cli/js/K2JSCompiler.java\n",
      "@@ -35,6 +35,8 @@ import org.jetbrains.jet.cli.common.messages.CompilerMessageLocati [ ... 1842 bytes abbreviated ... ] onment(disposable, configuration);\n",
      "     }\n",
      " \n",
      "     @NotNull\n",
      "*/\n",
      "// a summary of the above diff is:\n",
      "// -\n",
      "Warning: Model returned no output (prompt may have been too large)\n",
      "!! max size might be exceeded !!\n",
      "inputs so far: /* diff of changes\n",
      "diff --git a/java/org/apache/catalina/ha/tcp/SimpleTcpCluster.java b/java/org/apache/catalina/ha/tcp/SimpleTcpCluster.java\n",
      "index d38a7561c..68fab153c 100644\n",
      "--- a/java/org/apache/catalina/ha/tcp/SimpleTcpCluster.java\n",
      "+++ b/java/org/apache/catalina/ha/tcp/SimpleTcpCluster.java\n",
      "@@ -426,8 +426,7 @@ public class SimpleTcpCluster extends LifecycleMBeanBase\n",
      "             log.warn(sm.ge [ ... 1152 bytes abbreviated ... ] +4 +4 +4 +4 +4 +4 +4 +4 +4 +4 +4 +4 +4 +4 +4 +4 +4 +4 +4 +4 +4 +4 +4 +4 +4 +4 +4 +4 +4 +4 +4 +4 +4 +\n",
      "!! max size might be exceeded !!\n",
      "inputs so far: /* diff of changes\n",
      "diff --git a/src/main/java/org/bukkit/event/block/BlockFromToEvent.java b/src/main/java/org/bukkit/event/block/BlockFromToEvent.java\n",
      "index ab1927de..09bde18c 100644\n",
      "--- a/src/main/java/org/bukkit/event/block/BlockFromToEvent.java\n",
      "+++ b/src/main/java/org/bukkit/event/block/BlockFromToEvent.java\n",
      "@@ -9,14 +9,14 @@ import org.bukkit.event.Event;\n",
      "  * Holds information for events with [ ... 1371 bytes abbreviated ... ] 8 @@ -34,8 +34,8 @@ -34,8 +34,8 @@ -34,8 +34,8 @@ -34,8 +34,8 @@ -34,8 +34,8 @@ -34,8 +34,8 @@ -34,8\n",
      "!! max size might be exceeded !!\n",
      "inputs so far: /* diff of changes\n",
      "diff --git a/bundles/binding/org.openhab.binding.zwave/src/main/java/org/openhab/binding/zwave/internal/protocol/commandclass/ZWaveAlarmSensorCommandClass.java b/bundles/binding/org.openhab.binding.zwave/src/main/java/org/openhab/binding/zwave/internal/protocol/commandclass/ZWaveAlarmSensorCommandClass.java\n",
      "index bb03efc..8282eee 100644\n",
      "--- a/bundles/binding/org.openhab.binding. [ ... 3575 bytes abbreviated ... ] import org.slf4j.Logger;\n",
      " import org.slf4j.LoggerFactory;\n",
      "*/\n",
      "// a summary of the above diff is:\n",
      "// -\n",
      "Warning: Model returned no output (prompt may have been too large)\n",
      "!! max size might be exceeded !!\n",
      "inputs so far: /* diff of changes\n",
      "diff --git a/openid/src/main/java/org/springframework/security/openid/OpenID4JavaConsumer.java b/openid/src/main/java/org/springframework/security/openid/OpenID4JavaConsumer.java\n",
      "index e9b4f8009..1a803af10 100644\n",
      "--- a/openid/src/main/java/org/springframework/security/openid/OpenID4JavaConsumer.java\n",
      "+++ b/openid/src/main/java/org/springframework/security/openid/OpenID4JavaConsum [ ... 1459 bytes abbreviated ... ] 7:57,7:57,7:57,7:57,7:57,7:57,7:57,7:57,7:57,7:57,7:57,7:57,7:57,7:57,7:57,7:57,7:57,7:57,7:57,7:57,\n",
      "Done, 6min 39s elapsed.\n"
     ]
    },
    {
     "data": {
      "application/vnd.jupyter.widget-view+json": {
       "model_id": "6e270c767cdb44eebca35554d1fc65be",
       "version_major": 2,
       "version_minor": 0
      },
      "text/plain": [
       "HTML(value=\"<h1 style='font-weight: bold;'>Loading 6B (Salesforce/codegen-6B-multi)</h1>\")"
      ]
     },
     "metadata": {},
     "output_type": "display_data"
    },
    {
     "name": "stdout",
     "output_type": "stream",
     "text": [
      "# Loading 6B (Salesforce/codegen-6B-multi)\n",
      "[2024-05-22@01:37:47|model.device] Starting timer.\n",
      "Configuring torch device...\n",
      "Using device: cuda:0 aka cuda:0\n",
      "[2024-05-22@01:37:47|model.device] Time elapsed: ~0s\n",
      "[2024-05-22@01:37:47|model.tokenizer] Starting timer.\n",
      "[2024-05-22@01:37:47|model.tokenizer] Time elapsed: 309ms\n",
      "[2024-05-22@01:37:47|model.model] Starting timer.\n",
      "Obtaining model...\n"
     ]
    },
    {
     "name": "stderr",
     "output_type": "stream",
     "text": [
      "WARNING:root:Some parameters are on the meta device device because they were offloaded to the cpu.\n"
     ]
    },
    {
     "name": "stdout",
     "output_type": "stream",
     "text": [
      "[2024-05-22@01:39:13|model.model] Time elapsed: 1min 25s\n",
      "Opening ./data/output/commit/prompt0/codegen1-multi-6B.output...\n",
      "15 entries found already, skipping that many...\n"
     ]
    },
    {
     "data": {
      "application/vnd.jupyter.widget-view+json": {
       "model_id": "4fe64dddcf894b95b3c2ab8dbfe7709c",
       "version_major": 2,
       "version_minor": 0
      },
      "text/plain": [
       "VBox(children=(IntProgress(value=0, description='Progress:', max=95), Label(value='Estimated time remaining: c…"
      ]
     },
     "metadata": {},
     "output_type": "display_data"
    },
    {
     "name": "stdout",
     "output_type": "stream",
     "text": [
      "!! max size might be exceeded !!\n",
      "inputs so far: /* diff of changes\n",
      "diff --git a/core/common/src/main/java/alluxio/collections/IndexDefinition.java b/core/common/src/main/java/alluxio/collections/IndexDefinition.java\n",
      "index 6eaaade..fdab7ca 100644\n",
      "--- a/core/common/src/main/java/alluxio/collections/IndexDefinition.java\n",
      "+++ b/core/common/src/main/java/alluxio/collections/IndexDefinition.java\n",
      "@@ -11,6 +11,8 @@\n",
      " \n",
      " package alluxio.collections;\n",
      " \n",
      "+imp [ ... 2244 bytes abbreviated ... ] \n",
      "   private final ConcurrentHashMap<Object, T> mIndexMap;\n",
      "*/\n",
      "// a summary of the above diff is:\n",
      "// -\n",
      "Warning: Model returned no output (prompt may have been too large)\n",
      "!! max size might be exceeded !!\n",
      "inputs so far: /* diff of changes\n",
      "diff --git a/compiler/cli/src/org/jetbrains/jet/cli/js/K2JSCompiler.java b/compiler/cli/src/org/jetbrains/jet/cli/js/K2JSCompiler.java\n",
      "index 6898c93..a0e3346 100644\n",
      "--- a/compiler/cli/src/org/jetbrains/jet/cli/js/K2JSCompiler.java\n",
      "+++ b/compiler/cli/src/org/jetbrains/jet/cli/js/K2JSCompiler.java\n",
      "@@ -35,6 +35,8 @@ import org.jetbrains.jet.cli.common.messages.CompilerMessageLocati [ ... 1842 bytes abbreviated ... ] onment(disposable, configuration);\n",
      "     }\n",
      " \n",
      "     @NotNull\n",
      "*/\n",
      "// a summary of the above diff is:\n",
      "// -\n",
      "Warning: Model returned no output (prompt may have been too large)\n",
      "!! max size might be exceeded !!\n",
      "inputs so far: /* diff of changes\n",
      "diff --git a/bundles/binding/org.openhab.binding.zwave/src/main/java/org/openhab/binding/zwave/internal/protocol/commandclass/ZWaveAlarmSensorCommandClass.java b/bundles/binding/org.openhab.binding.zwave/src/main/java/org/openhab/binding/zwave/internal/protocol/commandclass/ZWaveAlarmSensorCommandClass.java\n",
      "index bb03efc..8282eee 100644\n",
      "--- a/bundles/binding/org.openhab.binding. [ ... 3575 bytes abbreviated ... ] import org.slf4j.Logger;\n",
      " import org.slf4j.LoggerFactory;\n",
      "*/\n",
      "// a summary of the above diff is:\n",
      "// -\n",
      "Warning: Model returned no output (prompt may have been too large)\n",
      "Done, 50min 33s elapsed.\n"
     ]
    },
    {
     "data": {
      "application/vnd.jupyter.widget-view+json": {
       "model_id": "5f8f53c8c2fc446381e6388071933a4b",
       "version_major": 2,
       "version_minor": 0
      },
      "text/plain": [
       "HTML(value=\"<h1 style='font-weight: bold;'>Loading 16B (Salesforce/codegen-16B-multi)</h1>\")"
      ]
     },
     "metadata": {},
     "output_type": "display_data"
    },
    {
     "name": "stdout",
     "output_type": "stream",
     "text": [
      "# Loading 16B (Salesforce/codegen-16B-multi)\n",
      "[2024-05-22@02:29:47|model.device] Starting timer.\n",
      "Configuring torch device...\n",
      "Using device: cuda:0 aka cuda:0\n",
      "[2024-05-22@02:29:47|model.device] Time elapsed: ~0s\n",
      "[2024-05-22@02:29:47|model.tokenizer] Starting timer.\n",
      "[2024-05-22@02:29:47|model.tokenizer] Time elapsed: 336ms\n",
      "[2024-05-22@02:29:47|model.model] Starting timer.\n",
      "Obtaining model...\n"
     ]
    },
    {
     "name": "stderr",
     "output_type": "stream",
     "text": [
      "WARNING:root:Some parameters are on the meta device device because they were offloaded to the cpu.\n"
     ]
    },
    {
     "name": "stdout",
     "output_type": "stream",
     "text": [
      "[2024-05-22@02:30:27|model.model] Time elapsed: 39s 513ms\n",
      "Opening ./data/output/commit/prompt0/codegen1-multi-16B.output...\n",
      "15 entries found already, skipping that many...\n"
     ]
    },
    {
     "data": {
      "application/vnd.jupyter.widget-view+json": {
       "model_id": "1e0414062ba1493ea643da1fdd45e54d",
       "version_major": 2,
       "version_minor": 0
      },
      "text/plain": [
       "VBox(children=(IntProgress(value=0, description='Progress:', max=95), Label(value='Estimated time remaining: c…"
      ]
     },
     "metadata": {},
     "output_type": "display_data"
    },
    {
     "name": "stdout",
     "output_type": "stream",
     "text": [
      "!! max size might be exceeded !!\n",
      "inputs so far: /* diff of changes\n",
      "diff --git a/core/common/src/main/java/alluxio/collections/IndexDefinition.java b/core/common/src/main/java/alluxio/collections/IndexDefinition.java\n",
      "index 6eaaade..fdab7ca 100644\n",
      "--- a/core/common/src/main/java/alluxio/collections/IndexDefinition.java\n",
      "+++ b/core/common/src/main/java/alluxio/collections/IndexDefinition.java\n",
      "@@ -11,6 +11,8 @@\n",
      " \n",
      " package alluxio.collections;\n",
      " \n",
      "+imp [ ... 2244 bytes abbreviated ... ] \n",
      "   private final ConcurrentHashMap<Object, T> mIndexMap;\n",
      "*/\n",
      "// a summary of the above diff is:\n",
      "// -\n",
      "Warning: Model returned no output (prompt may have been too large)\n",
      "!! max size might be exceeded !!\n",
      "inputs so far: /* diff of changes\n",
      "diff --git a/compiler/cli/src/org/jetbrains/jet/cli/js/K2JSCompiler.java b/compiler/cli/src/org/jetbrains/jet/cli/js/K2JSCompiler.java\n",
      "index 6898c93..a0e3346 100644\n",
      "--- a/compiler/cli/src/org/jetbrains/jet/cli/js/K2JSCompiler.java\n",
      "+++ b/compiler/cli/src/org/jetbrains/jet/cli/js/K2JSCompiler.java\n",
      "@@ -35,6 +35,8 @@ import org.jetbrains.jet.cli.common.messages.CompilerMessageLocati [ ... 1842 bytes abbreviated ... ] onment(disposable, configuration);\n",
      "     }\n",
      " \n",
      "     @NotNull\n",
      "*/\n",
      "// a summary of the above diff is:\n",
      "// -\n",
      "Warning: Model returned no output (prompt may have been too large)\n",
      "!! max size might be exceeded !!\n",
      "inputs so far: /* diff of changes\n",
      "diff --git a/bundles/binding/org.openhab.binding.zwave/src/main/java/org/openhab/binding/zwave/internal/protocol/commandclass/ZWaveAlarmSensorCommandClass.java b/bundles/binding/org.openhab.binding.zwave/src/main/java/org/openhab/binding/zwave/internal/protocol/commandclass/ZWaveAlarmSensorCommandClass.java\n",
      "index bb03efc..8282eee 100644\n",
      "--- a/bundles/binding/org.openhab.binding. [ ... 3575 bytes abbreviated ... ] import org.slf4j.Logger;\n",
      " import org.slf4j.LoggerFactory;\n",
      "*/\n",
      "// a summary of the above diff is:\n",
      "// -\n",
      "Warning: Model returned no output (prompt may have been too large)\n",
      "Done, 5hr 4min 50s elapsed.\n"
     ]
    }
   ],
   "source": [
    "Model.test_battery(\n",
    "    family=ModelFamily.CodeGen1.multi,\n",
    "    family_name=\"codegen1-multi\",\n",
    "    battery=BATTERY,\n",
    "    prompt=COMMIT_PROMPT,\n",
    "    meta_count=META_COUNT,\n",
    "    output_dir=OUTPUT_DIR,\n",
    "\n",
    "    max_size=800,\n",
    ")"
   ]
  },
  {
   "cell_type": "markdown",
   "id": "a4addc95-67ae-44ff-8e6e-6ce1a3f10ba5",
   "metadata": {},
   "source": [
    "# Interpret Output"
   ]
  },
  {
   "cell_type": "code",
   "execution_count": 5,
   "id": "33696339-2ba0-4676-8c17-6de39f3d09da",
   "metadata": {},
   "outputs": [],
   "source": [
    "import matplotlib.pyplot as plt\n",
    "from render_output import OutputRenderer"
   ]
  },
  {
   "cell_type": "code",
   "execution_count": 6,
   "id": "4eedca34-8cd2-4c94-a0ba-cb6cc82af4b7",
   "metadata": {},
   "outputs": [],
   "source": [
    "with open(BATTERY_SRC, \"r\") as truth_file:\n",
    "    test_cases = json.loads(truth_file.read())[\"cases\"][:CASE_COUNT]\n",
    "    answer_key = [ obj[\"truth\"].strip() for obj in test_cases ]\n",
    "\n",
    "prompt_family_answers = []\n",
    "for prompt_index in range(len(COMMIT_PROMPTS)):\n",
    "    output_dir = f\"./data/output/commit/prompt{prompt_index}\"\n",
    "    family_answers = {}\n",
    "    for key, model_name in ModelFamily.CodeGen1.multi.items():\n",
    "        output_path = os.path.join(output_dir, f\"codegen1-multi-{key}.output\")\n",
    "        with open(output_path, \"r\") as output_file:\n",
    "            answers = output_file.readlines()\n",
    "        family_answers[key] = answers\n",
    "    prompt_family_answers.append(family_answers)"
   ]
  },
  {
   "cell_type": "markdown",
   "id": "b8c970eb-9447-4e78-9ac6-8493523ec8f3",
   "metadata": {},
   "source": [
    "## Metric: BLEU"
   ]
  },
  {
   "cell_type": "code",
   "execution_count": 7,
   "id": "eaaf82d9-c966-4659-8914-516ca3030de4",
   "metadata": {},
   "outputs": [],
   "source": [
    "from bleu import _bleu\n",
    "b_moses_metrics = {}\n",
    "b_moses_baseline = 0.0\n",
    "\n",
    "def b_moses(ref, trans):\n",
    "    return _bleu(ref, trans, smooth=False, lower=False)\n",
    "\n",
    "for idx, family_answers in enumerate(prompt_family_answers):\n",
    "    metric_series = []\n",
    "    for key, answers in family_answers.items():\n",
    "        metric_series.append(b_moses(answer_key[:len(answers)], answers))\n",
    "    b_moses_metrics[f\"prompt{idx}\"] = metric_series\n"
   ]
  },
  {
   "cell_type": "code",
   "execution_count": 8,
   "id": "e2f3c3a2-8615-4887-a7d8-969087a67d29",
   "metadata": {},
   "outputs": [
    {
     "data": {
      "image/png": "[encoded data removed]",
      "text/plain": [
       "<Figure size 1000x600 with 1 Axes>"
      ]
     },
     "metadata": {},
     "output_type": "display_data"
    }
   ],
   "source": [
    "# AKA: BLEU no smoothing\n",
    "b_moses_renderer = OutputRenderer(\n",
    "    baseline=b_moses_baseline,\n",
    "    metric=\"B-Moses\",\n",
    ")\n",
    "\n",
    "b_moses_renderer.render(ys=b_moses_metrics)"
   ]
  },
  {
   "cell_type": "code",
   "execution_count": 9,
   "id": "a719e480-7341-4042-9175-33c3ec7484fc",
   "metadata": {},
   "outputs": [],
   "source": [
    "b_norm_metrics = {}\n",
    "b_norm_baseline = 0.0\n",
    "\n",
    "def b_norm(ref, trans):\n",
    "    return _bleu(ref, trans, smooth=True, lower=True)\n",
    "\n",
    "for idx, family_answers in enumerate(prompt_family_answers):\n",
    "    metric_series = []\n",
    "    for key, answers in family_answers.items():\n",
    "        metric_series.append(b_norm(answer_key[:len(answers)], answers))\n",
    "    b_norm_metrics[f\"prompt{idx}\"] = metric_series"
   ]
  },
  {
   "cell_type": "code",
   "execution_count": 10,
   "id": "1a51ab67-680a-42e2-9cd9-7e665cb76dd2",
   "metadata": {},
   "outputs": [
    {
     "data": {
      "image/png": "[encoded data removed]",
      "text/plain": [
       "<Figure size 1000x600 with 1 Axes>"
      ]
     },
     "metadata": {},
     "output_type": "display_data"
    }
   ],
   "source": [
    "# AKA: BLEU no smoothing\n",
    "b_norm_renderer = OutputRenderer(\n",
    "    baseline=b_norm_baseline,\n",
    "    metric=\"B-Norm\",\n",
    ")\n",
    "\n",
    "b_norm_renderer.render(ys=b_norm_metrics)"
   ]
  },
  {
   "cell_type": "code",
   "execution_count": 11,
   "id": "ac9e8acc-bbf4-4add-b24d-83fd01f60728",
   "metadata": {},
   "outputs": [
    {
     "data": {
      "image/png": "[encoded data removed]",
      "text/plain": [
       "<Figure size 1000x600 with 1 Axes>"
      ]
     },
     "metadata": {},
     "output_type": "display_data"
    }
   ],
   "source": [
    "# AKA: BLEU no smoothing\n",
    "b_combined_renderer = OutputRenderer(\n",
    "    baseline=b_norm_baseline,\n",
    "    metric=\"Metric\",\n",
    ")\n",
    "\n",
    "b_combined_renderer.render(\n",
    "    ys={\n",
    "        \"B-Moses\": b_moses_metrics[\"prompt0\"],\n",
    "        \"B-Norm\": b_norm_metrics[\"prompt0\"],\n",
    "    },\n",
    "    y_max=0.1\n",
    ")"
   ]
  },
  {
   "cell_type": "code",
   "execution_count": null,
   "id": "ef5cc3a5-a2a6-48a1-87f1-c0c1e133acc6",
   "metadata": {},
   "outputs": [],
   "source": []
  },
  {
   "cell_type": "code",
   "execution_count": null,
   "id": "4ad6b6eb-9372-46d8-9ec3-9b3e0822af65",
   "metadata": {},
   "outputs": [],
   "source": []
  }
 ],
 "metadata": {
  "kernelspec": {
   "display_name": "Python 3",
   "language": "python",
   "name": "python3"
  },
  "language_info": {
   "codemirror_mode": {
    "name": "ipython",
    "version": 3
   },
   "file_extension": ".py",
   "mimetype": "text/x-python",
   "name": "python",
   "nbconvert_exporter": "python",
   "pygments_lexer": "ipython3",
   "version": "3.8.10"
  }
 },
 "nbformat": 4,
 "nbformat_minor": 5
}
