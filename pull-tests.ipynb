{
 "cells": [
  {
   "cell_type": "code",
   "execution_count": 1,
   "id": "5679de6b-c647-4341-9790-b77293a6c690",
   "metadata": {},
   "outputs": [],
   "source": [
    "# !pip install git+https://github.com/google/BIG-bench.git "
   ]
  },
  {
   "cell_type": "code",
   "execution_count": 1,
   "id": "6b041c2e-eb68-465f-8c5b-3929ecf37c7a",
   "metadata": {},
   "outputs": [
    {
     "ename": "ImportError",
     "evalue": "cannot import name 'task' from 'bigbench.benchmark_tasks.code_line_description' (unknown location)",
     "output_type": "error",
     "traceback": [
      "\u001b[0;31m---------------------------------------------------------------------------\u001b[0m",
      "\u001b[0;31mImportError\u001b[0m                               Traceback (most recent call last)",
      "Cell \u001b[0;32mIn [1], line 1\u001b[0m\n\u001b[0;32m----> 1\u001b[0m \u001b[38;5;28;01mfrom\u001b[39;00m \u001b[38;5;21;01mbigbench\u001b[39;00m\u001b[38;5;21;01m.\u001b[39;00m\u001b[38;5;21;01mbenchmark_tasks\u001b[39;00m\u001b[38;5;21;01m.\u001b[39;00m\u001b[38;5;21;01mcode_line_description\u001b[39;00m \u001b[38;5;28;01mimport\u001b[39;00m task \u001b[38;5;28;01mas\u001b[39;00m cld_task\n",
      "\u001b[0;31mImportError\u001b[0m: cannot import name 'task' from 'bigbench.benchmark_tasks.code_line_description' (unknown location)"
     ]
    }
   ],
   "source": [
    "from bigbench.benchmark_tasks.code_line_description import task as cld_task\n",
    "\n",
    "\n"
   ]
  },
  {
   "cell_type": "code",
   "execution_count": 66,
   "id": "6bb8a34d-5cb9-4219-9313-c7698e18f64b",
   "metadata": {},
   "outputs": [
    {
     "name": "stdout",
     "output_type": "stream",
     "text": [
      "{'prompt': 'True or False is ', 'truth': True, 'shot': 0, 'expr_size': 3}\n",
      "{'prompt': 'True and True is ', 'truth': True, 'shot': 0, 'expr_size': 3}\n",
      "{'prompt': '( False ) is ', 'truth': False, 'shot': 0, 'expr_size': 3}\n",
      "{'prompt': 'not not False is ', 'truth': False, 'shot': 0, 'expr_size': 3}\n",
      "{'prompt': 'False or True is ', 'truth': True, 'shot': 0, 'expr_size': 3}\n",
      "{'prompt': '( True ) is ', 'truth': True, 'shot': 0, 'expr_size': 3}\n",
      "{'prompt': 'True and False is ', 'truth': False, 'shot': 0, 'expr_size': 3}\n",
      "{'prompt': 'True or True is ', 'truth': True, 'shot': 0, 'expr_size': 3}\n",
      "{'prompt': 'False and True is ', 'truth': False, 'shot': 0, 'expr_size': 3}\n",
      "{'prompt': 'False and False is ', 'truth': False, 'shot': 0, 'expr_size': 3}\n",
      "{'prompt': 'not not True is ', 'truth': True, 'shot': 0, 'expr_size': 3}\n",
      "{'prompt': 'False or False is ', 'truth': False, 'shot': 0, 'expr_size': 3}\n",
      "{'prompt': 'True and True is True . False and True is ', 'truth': False, 'shot': 1, 'expr_size': 3}\n",
      "{'prompt': '( True ) is True . True or True is ', 'truth': True, 'shot': 1, 'expr_size': 3}\n",
      "{'prompt': 'not not False is False . False or True is ', 'truth': True, 'shot': 1, 'expr_size': 3}\n",
      "{'prompt': 'True or False is True . False and False is ', 'truth': False, 'shot': 1, 'expr_size': 3}\n",
      "{'prompt': 'True and False is False . ( False ) is ', 'truth': False, 'shot': 1, 'expr_size': 3}\n",
      "{'prompt': 'False or False is False . not not True is ', 'truth': True, 'shot': 1, 'expr_size': 3}\n",
      "None\n"
     ]
    }
   ],
   "source": [
    "from bigbench.benchmark_tasks.boolean_expressions import task as be_task\n",
    "import random\n",
    "\n",
    "# we will simply take the tasks, rather than use bigbench's evaluator\n",
    "# this converts the task into a json task\n",
    "class ECBooleanExpressions(be_task.BooleanExpressionsTask):\n",
    "    \"\"\"Extracting boolean expressions task of variable difficulty.\"\"\"\n",
    "\n",
    "    def expressions_for(self, shots=None):\n",
    "        if shots is None:\n",
    "            shots = [self.num_shots]\n",
    "        # TODO: iterate over self.expression_lengths\n",
    "        expr_size = self.expression_lengths[2]\n",
    "        expressions = list(self._yield_expression(expr_size))\n",
    "\n",
    "        for shot in shots:\n",
    "            # sort and reshuffle for each shot\n",
    "            expressions = sorted(expressions)\n",
    "            random.shuffle(expressions)\n",
    "            # gather expressions in shot+1 windows\n",
    "            for i in range(0, len(expressions), shot + 1):\n",
    "                *shot_prompts, question = [\n",
    "                    self._eval_expression(expr)\n",
    "                    for expr in expressions[i : i + shot + 1]\n",
    "                ]\n",
    "                prompt = \"\".join(\n",
    "                    prompt + str(truth) + \" . \"\n",
    "                    for (truth, prompt) in shot_prompts\n",
    "                )\n",
    "                question_truth, question_prompt = question\n",
    "                prompt += question_prompt\n",
    "                print({\n",
    "                    \"prompt\": prompt,\n",
    "                    \"truth\": question_truth,\n",
    "                    \"shot\": shot,\n",
    "                    \"expr_size\": expr_size,\n",
    "                })\n",
    "            # truth, prompt = self._eval_expression(expressions[0])\n",
    "            # test_case = {\n",
    "                # \"shots\": 1,\n",
    "            # }\n",
    "\n",
    "ecbe = ECBooleanExpressions(seed=13)\n",
    "print(ecbe.expressions_for(shots=[0, 1]))"
   ]
  },
  {
   "cell_type": "code",
   "execution_count": 12,
   "id": "12fb9a11-e25b-4ad6-93c4-fb6fb48fe401",
   "metadata": {},
   "outputs": [
    {
     "name": "stdout",
     "output_type": "stream",
     "text": [
      "<class 'bigbench.benchmark_tasks.boolean_expressions.task.BooleanExpressionsTask'>\n"
     ]
    }
   ],
   "source": []
  }
 ],
 "metadata": {
  "kernelspec": {
   "display_name": "Python 3",
   "language": "python",
   "name": "python3"
  },
  "language_info": {
   "codemirror_mode": {
    "name": "ipython",
    "version": 3
   },
   "file_extension": ".py",
   "mimetype": "text/x-python",
   "name": "python",
   "nbconvert_exporter": "python",
   "pygments_lexer": "ipython3",
   "version": "3.8.10"
  }
 },
 "nbformat": 4,
 "nbformat_minor": 5
}
