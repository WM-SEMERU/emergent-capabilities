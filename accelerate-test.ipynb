{
 "cells": [
  {
   "cell_type": "code",
   "execution_count": 3,
   "id": "f7b21f07-e0a7-49c0-9471-125c0a5ee0e4",
   "metadata": {},
   "outputs": [
    {
     "name": "stdout",
     "output_type": "stream",
     "text": [
      "Importing torch...\n",
      "Importing HF...\n",
      "Importing accelerate...\n",
      "Importing python modules...\n"
     ]
    }
   ],
   "source": [
    "print(\"Importing torch...\")\n",
    "import torch\n",
    "\n",
    "print(\"Importing HF...\")\n",
    "from transformers import AutoTokenizer, AutoModelForCausalLM\n",
    "\n",
    "print(\"Importing accelerate...\")\n",
    "import accelerate\n",
    "\n",
    "print(\"Importing python modules...\")\n",
    "from timehelp import time_start, time_end"
   ]
  },
  {
   "cell_type": "code",
   "execution_count": 2,
   "id": "e01141ce-c9ef-44eb-a9ea-3cc72332b002",
   "metadata": {},
   "outputs": [
    {
     "name": "stdout",
     "output_type": "stream",
     "text": [
      "Using device: cuda:0 <class 'torch.device'>\n",
      "11.3\n",
      "<function current_device at 0x7f602ff06e50>\n"
     ]
    }
   ],
   "source": [
    "CACHE_DIR = \"/workspaces/emergent-capabilities/datax\"\n",
    "# model_name = \"Salesforce/codegen-350M-mono\"\n",
    "# model_name = \"Salesforce/codegen-2B-mono\"\n",
    "model_name = \"Salesforce/codegen-6B-mono\"\n",
    "# model_name = \"Salesforce/codegen-16B-mono\"\n",
    "\n",
    "use_device = \"cuda:0\" if torch.cuda.is_available() else \"cpu\"\n",
    "# use_device = \"cpu\"\n",
    "if use_device == \"cpu\":\n",
    "    print(\"Warning: Running on CPU\")\n",
    "use_device = torch.device(use_device)\n",
    "print(\"Using device:\", use_device, type(use_device))\n",
    "print(torch.version.cuda)\n",
    "print(torch.cuda.current_device)"
   ]
  },
  {
   "cell_type": "code",
   "execution_count": 4,
   "id": "331d95df-7acc-4e4e-9541-cd1c64fd227f",
   "metadata": {},
   "outputs": [
    {
     "name": "stdout",
     "output_type": "stream",
     "text": [
      "Time elapsed: 762ms\n"
     ]
    }
   ],
   "source": [
    "time_start()\n",
    "tokenizer = AutoTokenizer.from_pretrained(model_name, cache_dir=CACHE_DIR)\n",
    "time_end()"
   ]
  },
  {
   "cell_type": "code",
   "execution_count": 5,
   "id": "f094af58-b9e2-4a4d-9f0a-a73892263765",
   "metadata": {},
   "outputs": [
    {
     "name": "stdout",
     "output_type": "stream",
     "text": [
      "Obtaining model...\n"
     ]
    },
    {
     "name": "stderr",
     "output_type": "stream",
     "text": [
      "WARNING:root:Some parameters are on the meta device device because they were offloaded to the cpu.\n"
     ]
    },
    {
     "name": "stdout",
     "output_type": "stream",
     "text": [
      "Time elapsed: 21s 616ms\n"
     ]
    }
   ],
   "source": [
    "time_start()\n",
    "torch.cuda.empty_cache()\n",
    "print(\"Obtaining model...\")\n",
    "#oh, we can just use \"device_map=auto\" anyway??\n",
    "model = AutoModelForCausalLM.from_pretrained(model_name, cache_dir=CACHE_DIR, device_map = 'auto')\n",
    "time_end()"
   ]
  },
  {
   "cell_type": "code",
   "execution_count": null,
   "id": "6930ec78-5b35-4757-9dfe-2f0fa3d039dc",
   "metadata": {},
   "outputs": [],
   "source": []
  }
 ],
 "metadata": {
  "kernelspec": {
   "display_name": "Python 3",
   "language": "python",
   "name": "python3"
  },
  "language_info": {
   "codemirror_mode": {
    "name": "ipython",
    "version": 3
   },
   "file_extension": ".py",
   "mimetype": "text/x-python",
   "name": "python",
   "nbconvert_exporter": "python",
   "pygments_lexer": "ipython3",
   "version": "3.8.10"
  }
 },
 "nbformat": 4,
 "nbformat_minor": 5
}
