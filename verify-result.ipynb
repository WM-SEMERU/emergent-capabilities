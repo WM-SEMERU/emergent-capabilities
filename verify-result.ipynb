{
 "cells": [
  {
   "cell_type": "code",
   "execution_count": 1,
   "id": "89ecd68a-07a9-42ad-9fdb-daadb9cefd3f",
   "metadata": {},
   "outputs": [],
   "source": [
    "from model_wrapper import Model, ModelFamily"
   ]
  },
  {
   "cell_type": "markdown",
   "id": "2060a0be-6194-4601-addc-364aaae8346c",
   "metadata": {},
   "source": [
    "# verify Bugs2Fix/prompt0/350M/index 0 (line 1)"
   ]
  },
  {
   "cell_type": "code",
   "execution_count": 2,
   "id": "c8772e4b-a510-4979-927c-8f030e3b2447",
   "metadata": {},
   "outputs": [
    {
     "name": "stdout",
     "output_type": "stream",
     "text": [
      "[2024-06-20@05:31:36|model.device] Starting timer.\n",
      "Configuring torch device...\n",
      "Using device: cuda:0 aka cuda:0\n",
      "[2024-06-20@05:31:36|model.device] Time elapsed: 28ms\n",
      "[2024-06-20@05:31:36|model.tokenizer] Starting timer.\n",
      "[2024-06-20@05:31:36|model.tokenizer] Time elapsed: 195ms\n",
      "[2024-06-20@05:31:36|model.model] Starting timer.\n",
      "Obtaining model...\n",
      "[2024-06-20@05:31:40|model.model] Time elapsed: 3s 365ms\n"
     ]
    }
   ],
   "source": [
    "model_name = ModelFamily.CodeGen1.multi[\"350M\"]\n",
    "model = Model(model_name)\n",
    "model.configure(time=True)"
   ]
  },
  {
   "cell_type": "code",
   "execution_count": 3,
   "id": "08884fc2-1799-460a-b4fe-d765564880c1",
   "metadata": {},
   "outputs": [
    {
     "name": "stdout",
     "output_type": "stream",
     "text": [
      "'// the buggy version of the code\\nprivate TYPE_1 getType ( TYPE_2 VAR_1 ) { TYPE_3 VAR_2 = new TYPE_3 ( STRING_1 ) ; return new TYPE_1 ( VAR_2 , VAR_2 ) ; }\\n// the fixed version of the code\\n'\n"
     ]
    }
   ],
   "source": [
    "test_case = \"private TYPE_1 getType ( TYPE_2 VAR_1 ) { TYPE_3 VAR_2 = new TYPE_3 ( STRING_1 ) ; return new TYPE_1 ( VAR_2 , VAR_2 ) ; } \"\n",
    "prompt = \"// the buggy version of the code\\n{prompt}\\n// the fixed version of the code\\n\"\n",
    "model_input = prompt.format(prompt=test_case.strip())\n",
    "print(repr(model_input))"
   ]
  },
  {
   "cell_type": "code",
   "execution_count": 4,
   "id": "ad5807f8-fbe4-461a-b319-9ecb7a5561ad",
   "metadata": {},
   "outputs": [
    {
     "name": "stdout",
     "output_type": "stream",
     "text": [
      "Generating...\n",
      "private TYPE_1 getType ( TYPE_2 VAR_1 ) { TYPE_3 VAR_2 = new TYPE_3 ( STRING_1 ) ; return new TYPE_1 ( VAR_2, VAR_2\n",
      "Generating...\n",
      " ) ; }\n",
      "// the buggy version of the code\n",
      "private TYPE_1 getType ( TYPE_2 VAR_1 ) { TYPE_3 VAR_2 = new TYPE_3 ( STRING_1 ) ; return new TYPE\n"
     ]
    },
    {
     "data": {
      "text/plain": [
       "' ) ; }'"
      ]
     },
     "execution_count": 4,
     "metadata": {},
     "output_type": "execute_result"
    }
   ],
   "source": [
    "output = model.generate_until(model_input, stops=[\"\\n\"])\n",
    "output"
   ]
  },
  {
   "cell_type": "markdown",
   "id": "8c433d7a-2f4d-4f35-8152-3e0fc280d527",
   "metadata": {},
   "source": [
    "## verify Bugs2Fix/prompt1/2B/(index 4/line 5)\n"
   ]
  },
  {
   "cell_type": "code",
   "execution_count": 2,
   "id": "e2abcfb1-a9bd-40c9-8ef2-648ee9662df8",
   "metadata": {},
   "outputs": [
    {
     "name": "stdout",
     "output_type": "stream",
     "text": [
      "[2024-06-19@19:07:20|model.device] Starting timer.\n",
      "Configuring torch device...\n",
      "Using device: cuda:0 aka cuda:0\n",
      "[2024-06-19@19:07:20|model.device] Time elapsed: 47ms\n",
      "[2024-06-19@19:07:20|model.tokenizer] Starting timer.\n",
      "[2024-06-19@19:07:20|model.tokenizer] Time elapsed: 292ms\n",
      "[2024-06-19@19:07:20|model.model] Starting timer.\n",
      "Obtaining model...\n",
      "[2024-06-19@19:07:57|model.model] Time elapsed: 37s 136ms\n"
     ]
    }
   ],
   "source": [
    "model_name = ModelFamily.CodeGen1.multi[\"2B\"]\n",
    "model = Model(model_name)\n",
    "model.configure(time=True)"
   ]
  },
  {
   "cell_type": "code",
   "execution_count": 8,
   "id": "69f19bb0-0738-4a07-85cc-362b5bcb2b58",
   "metadata": {},
   "outputs": [
    {
     "name": "stdout",
     "output_type": "stream",
     "text": [
      "'// You are given a piece of buggy code. Your task is to fix the error, and generate the corrected code. Fix the following code:\\npublic void METHOD_1 ( ) { TYPE_1 . METHOD_2 ( METHOD_3 ( ) , METHOD_4 ( ) . getString ( VAR_1 ) , VAR_2 ) . show ( ) ; } \\n'\n"
     ]
    }
   ],
   "source": [
    "test_case = \"public void METHOD_1 ( ) { TYPE_1 . METHOD_2 ( METHOD_3 ( ) , METHOD_4 ( ) . getString ( VAR_1 ) , VAR_2 ) . show ( ) ; } \"\n",
    "prompt = \"// You are given a piece of buggy code. Your task is to fix the error, and generate the corrected code. Fix the following code:\\n{prompt}\\n\"\n",
    "model_input = prompt.format(prompt=test_case)\n",
    "print(repr(model_input))"
   ]
  },
  {
   "cell_type": "code",
   "execution_count": 10,
   "id": "d1c1769e-dc0f-48cf-bbcc-d3758ede512c",
   "metadata": {},
   "outputs": [
    {
     "name": "stdout",
     "output_type": "stream",
     "text": [
      "Generating...\n"
     ]
    },
    {
     "data": {
      "text/plain": [
       "'public class TYPE_1 {'"
      ]
     },
     "execution_count": 10,
     "metadata": {},
     "output_type": "execute_result"
    }
   ],
   "source": [
    "output = model.generate_until(model_input, stops=[\"\\n\"])\n",
    "output.strip()"
   ]
  },
  {
   "cell_type": "code",
   "execution_count": null,
   "id": "9c29520e-affc-4051-b010-208c1cf97717",
   "metadata": {},
   "outputs": [],
   "source": []
  },
  {
   "cell_type": "markdown",
   "id": "6ea392f0-e33f-4eaa-86cd-6365aa6271fb",
   "metadata": {},
   "source": [
    "## i forgot what below was"
   ]
  },
  {
   "cell_type": "code",
   "execution_count": 2,
   "id": "bb097a82-d6f5-4129-8ad9-da4737419144",
   "metadata": {},
   "outputs": [
    {
     "name": "stdout",
     "output_type": "stream",
     "text": [
      "[2024-06-02@20:39:05|model.device] Starting timer.\n",
      "Configuring torch device...\n",
      "Using device: cuda:0 aka cuda:0\n",
      "[2024-06-02@20:39:05|model.device] Time elapsed: 65ms\n",
      "[2024-06-02@20:39:05|model.tokenizer] Starting timer.\n",
      "[2024-06-02@20:39:05|model.tokenizer] Time elapsed: 278ms\n",
      "[2024-06-02@20:39:05|model.model] Starting timer.\n",
      "Obtaining model...\n"
     ]
    },
    {
     "name": "stderr",
     "output_type": "stream",
     "text": [
      "WARNING:root:Some parameters are on the meta device device because they were offloaded to the cpu.\n"
     ]
    },
    {
     "name": "stdout",
     "output_type": "stream",
     "text": [
      "[2024-06-02@20:39:45|model.model] Time elapsed: 39s 481ms\n"
     ]
    }
   ],
   "source": [
    "model_name = ModelFamily.CodeGen1.multi[\"16B\"]\n",
    "model = Model(model_name)\n",
    "model.configure(time=True)"
   ]
  },
  {
   "cell_type": "code",
   "execution_count": 3,
   "id": "0e4fc398-8fa4-4015-9fa3-838a163ebfb7",
   "metadata": {},
   "outputs": [
    {
     "name": "stdout",
     "output_type": "stream",
     "text": [
      "// This code is written in Java. Reproduce the same exact code in C#.\n",
      "public PutVoiceConnectorStreamingConfigurationResult putVoiceConnectorStreamingConfiguration(PutVoiceConnectorStreamingConfigurationRequest request) {request = beforeClientExecution(request);return executePutVoiceConnectorStreamingConfiguration(request);}\n",
      "\n"
     ]
    }
   ],
   "source": [
    "model_input = '// This code is written in Java. Reproduce the same exact code in C#.\\npublic PutVoiceConnectorStreamingConfigurationResult putVoiceConnectorStreamingConfiguration(PutVoiceConnectorStreamingConfigurationRequest request) {request = beforeClientExecution(request);return executePutVoiceConnectorStreamingConfiguration(request);}\\n'\n",
    "print(model_input)"
   ]
  },
  {
   "cell_type": "code",
   "execution_count": 4,
   "id": "9f8ce436-c3b5-41ba-94b5-6bff871f7ef5",
   "metadata": {},
   "outputs": [
    {
     "name": "stdout",
     "output_type": "stream",
     "text": [
      "Generating...\n"
     ]
    },
    {
     "data": {
      "text/plain": [
       "'private static PutVoiceConnectorStreamingConfigurationResult executePutVoiceConnectorStreamingConfiguration(PutVoiceConnectorStreamingConfigurationRequest putVoiceConnectorStreamingConfigurationRequest) {'"
      ]
     },
     "execution_count": 4,
     "metadata": {},
     "output_type": "execute_result"
    }
   ],
   "source": [
    "output = model.generate_until(model_input, stops=[\"\\n\"])\n",
    "output"
   ]
  },
  {
   "cell_type": "code",
   "execution_count": 5,
   "id": "bf26d9d4-9e16-45aa-8002-f56d5c461c42",
   "metadata": {},
   "outputs": [
    {
     "name": "stdout",
     "output_type": "stream",
     "text": [
      "'private static PutVoiceConnectorStreamingConfigurationResult executePutVoiceConnectorStreamingConfiguration(PutVoiceConnectorStreamingConfigurationRequest putVoiceConnectorStreamingConfigurationRequest) {'\n"
     ]
    }
   ],
   "source": [
    "#decoded = model.decode(output)#.strip()\n",
    "decoded = output.strip()\n",
    "print(repr(decoded))"
   ]
  },
  {
   "cell_type": "code",
   "execution_count": 6,
   "id": "80cce555-1fe8-4c9e-981c-1bcda6e5144a",
   "metadata": {},
   "outputs": [
    {
     "data": {
      "text/plain": [
       "['private static PutVoiceConnectorStreamingConfigurationResult executePutVoiceConnectorStreamingConfiguration(PutVoiceConnectorStreamingConfigurationRequest putVoiceConnectorStreamingConfigurationRequest) {']"
      ]
     },
     "execution_count": 6,
     "metadata": {},
     "output_type": "execute_result"
    }
   ],
   "source": [
    "decoded.split(\"\\n\")"
   ]
  }
 ],
 "metadata": {
  "kernelspec": {
   "display_name": "Python 3",
   "language": "python",
   "name": "python3"
  },
  "language_info": {
   "codemirror_mode": {
    "name": "ipython",
    "version": 3
   },
   "file_extension": ".py",
   "mimetype": "text/x-python",
   "name": "python",
   "nbconvert_exporter": "python",
   "pygments_lexer": "ipython3",
   "version": "3.8.10"
  }
 },
 "nbformat": 4,
 "nbformat_minor": 5
}
