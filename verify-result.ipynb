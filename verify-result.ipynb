{
 "cells": [
  {
   "cell_type": "code",
   "execution_count": 1,
   "id": "89ecd68a-07a9-42ad-9fdb-daadb9cefd3f",
   "metadata": {},
   "outputs": [],
   "source": [
    "from model_wrapper import Model, ModelFamily"
   ]
  },
  {
   "cell_type": "code",
   "execution_count": 2,
   "id": "bb097a82-d6f5-4129-8ad9-da4737419144",
   "metadata": {},
   "outputs": [
    {
     "name": "stdout",
     "output_type": "stream",
     "text": [
      "[2024-06-02@20:39:05|model.device] Starting timer.\n",
      "Configuring torch device...\n",
      "Using device: cuda:0 aka cuda:0\n",
      "[2024-06-02@20:39:05|model.device] Time elapsed: 65ms\n",
      "[2024-06-02@20:39:05|model.tokenizer] Starting timer.\n",
      "[2024-06-02@20:39:05|model.tokenizer] Time elapsed: 278ms\n",
      "[2024-06-02@20:39:05|model.model] Starting timer.\n",
      "Obtaining model...\n"
     ]
    },
    {
     "name": "stderr",
     "output_type": "stream",
     "text": [
      "WARNING:root:Some parameters are on the meta device device because they were offloaded to the cpu.\n"
     ]
    },
    {
     "name": "stdout",
     "output_type": "stream",
     "text": [
      "[2024-06-02@20:39:45|model.model] Time elapsed: 39s 481ms\n"
     ]
    }
   ],
   "source": [
    "model_name = ModelFamily.CodeGen1.multi[\"16B\"]\n",
    "model = Model(model_name)\n",
    "model.configure(time=True)"
   ]
  },
  {
   "cell_type": "code",
   "execution_count": 3,
   "id": "0e4fc398-8fa4-4015-9fa3-838a163ebfb7",
   "metadata": {},
   "outputs": [
    {
     "name": "stdout",
     "output_type": "stream",
     "text": [
      "// This code is written in Java. Reproduce the same exact code in C#.\n",
      "public PutVoiceConnectorStreamingConfigurationResult putVoiceConnectorStreamingConfiguration(PutVoiceConnectorStreamingConfigurationRequest request) {request = beforeClientExecution(request);return executePutVoiceConnectorStreamingConfiguration(request);}\n",
      "\n"
     ]
    }
   ],
   "source": [
    "model_input = '// This code is written in Java. Reproduce the same exact code in C#.\\npublic PutVoiceConnectorStreamingConfigurationResult putVoiceConnectorStreamingConfiguration(PutVoiceConnectorStreamingConfigurationRequest request) {request = beforeClientExecution(request);return executePutVoiceConnectorStreamingConfiguration(request);}\\n'\n",
    "print(model_input)"
   ]
  },
  {
   "cell_type": "code",
   "execution_count": 4,
   "id": "9f8ce436-c3b5-41ba-94b5-6bff871f7ef5",
   "metadata": {},
   "outputs": [
    {
     "name": "stdout",
     "output_type": "stream",
     "text": [
      "Generating...\n"
     ]
    },
    {
     "data": {
      "text/plain": [
       "'private static PutVoiceConnectorStreamingConfigurationResult executePutVoiceConnectorStreamingConfiguration(PutVoiceConnectorStreamingConfigurationRequest putVoiceConnectorStreamingConfigurationRequest) {'"
      ]
     },
     "execution_count": 4,
     "metadata": {},
     "output_type": "execute_result"
    }
   ],
   "source": [
    "output = model.generate_until(model_input, stops=[\"\\n\"])\n",
    "output"
   ]
  },
  {
   "cell_type": "code",
   "execution_count": 5,
   "id": "bf26d9d4-9e16-45aa-8002-f56d5c461c42",
   "metadata": {},
   "outputs": [
    {
     "name": "stdout",
     "output_type": "stream",
     "text": [
      "'private static PutVoiceConnectorStreamingConfigurationResult executePutVoiceConnectorStreamingConfiguration(PutVoiceConnectorStreamingConfigurationRequest putVoiceConnectorStreamingConfigurationRequest) {'\n"
     ]
    }
   ],
   "source": [
    "#decoded = model.decode(output)#.strip()\n",
    "decoded = output.strip()\n",
    "print(repr(decoded))"
   ]
  },
  {
   "cell_type": "code",
   "execution_count": 6,
   "id": "80cce555-1fe8-4c9e-981c-1bcda6e5144a",
   "metadata": {},
   "outputs": [
    {
     "data": {
      "text/plain": [
       "['private static PutVoiceConnectorStreamingConfigurationResult executePutVoiceConnectorStreamingConfiguration(PutVoiceConnectorStreamingConfigurationRequest putVoiceConnectorStreamingConfigurationRequest) {']"
      ]
     },
     "execution_count": 6,
     "metadata": {},
     "output_type": "execute_result"
    }
   ],
   "source": [
    "decoded.split(\"\\n\")"
   ]
  }
 ],
 "metadata": {
  "kernelspec": {
   "display_name": "Python 3",
   "language": "python",
   "name": "python3"
  },
  "language_info": {
   "codemirror_mode": {
    "name": "ipython",
    "version": 3
   },
   "file_extension": ".py",
   "mimetype": "text/x-python",
   "name": "python",
   "nbconvert_exporter": "python",
   "pygments_lexer": "ipython3",
   "version": "3.8.10"
  }
 },
 "nbformat": 4,
 "nbformat_minor": 5
}
