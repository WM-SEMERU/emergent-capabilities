{
 "cells": [
  {
   "cell_type": "markdown",
   "id": "e540f709-7008-4f6a-a447-a3353bbfaf87",
   "metadata": {},
   "source": [
    "# Common Constants"
   ]
  },
  {
   "cell_type": "code",
   "execution_count": 1,
   "id": "156a324c-8161-4e71-b35b-d1da32301b9e",
   "metadata": {},
   "outputs": [],
   "source": [
    "import os\n",
    "from run_battery import BatteryRunner\n",
    "\n",
    "runner = BatteryRunner(\n",
    "    case_count=100,\n",
    "    meta_count=None,\n",
    "    task=\"code2code-trans\",\n",
    "    prompts=[\n",
    "        \"// original code.java\\n{prompt}\\n// code.cs version of code.java\\n\",\n",
    "        \"// code.java\\n{prompt}\\n// code.cs\\n\",\n",
    "        \"// This code is written in Java. Reproduce the same exact code in C#.\\n{prompt}\\n\"\n",
    "    ],\n",
    "    battery_path=\"./data/CodeXGLUE/Code-Code/code-to-code-trans/data\",\n",
    "    questions_file=\"test.java-cs.txt.java\",\n",
    "    truth_file=\"test.java-cs.txt.cs\",\n",
    ")"
   ]
  },
  {
   "cell_type": "code",
   "execution_count": 2,
   "id": "c3592d92-e7d3-485a-bfb2-921e8c323055",
   "metadata": {},
   "outputs": [
    {
     "name": "stdout",
     "output_type": "stream",
     "text": [
      "Loaded 100 cases!\n"
     ]
    }
   ],
   "source": [
    "runner.load_cases()"
   ]
  },
  {
   "cell_type": "code",
   "execution_count": 3,
   "id": "be41b613-acfa-4ad9-99a5-778a0555b12e",
   "metadata": {},
   "outputs": [],
   "source": [
    "from model_wrapper import ModelFamily"
   ]
  },
  {
   "cell_type": "markdown",
   "id": "6ce2583a-0537-498a-a2f7-fa7a183fd61f",
   "metadata": {},
   "source": [
    "# Generate Output"
   ]
  },
  {
   "cell_type": "code",
   "execution_count": 4,
   "id": "120a72c3-76fd-4060-aa8b-c8a4a5e8ecf0",
   "metadata": {},
   "outputs": [
    {
     "data": {
      "application/vnd.jupyter.widget-view+json": {
       "model_id": "ccf01fbc529a4b98ba3a8bf0d87f9bc5",
       "version_major": 2,
       "version_minor": 0
      },
      "text/plain": [
       "HTML(value=\"<h1 style='font-weight: bold; border-bottom: 1px solid;'>Testing prompt index 0</h1>\")"
      ]
     },
     "metadata": {},
     "output_type": "display_data"
    },
    {
     "name": "stdout",
     "output_type": "stream",
     "text": [
      "# Testing prompt index 0\n",
      "Prompt to be tested:\n",
      "// original code.java\n",
      "{prompt}\n",
      "// code.cs version of code.java\n",
      "\n"
     ]
    },
    {
     "data": {
      "application/vnd.jupyter.widget-view+json": {
       "model_id": "37120dae8f2141c1a7312085b3c7285c",
       "version_major": 2,
       "version_minor": 0
      },
      "text/plain": [
       "HTML(value=\"<h2 style='font-weight: bold; border-bottom: 1px dotted;'>Loading 350M (Salesforce/codegen-350M-mu…"
      ]
     },
     "metadata": {},
     "output_type": "display_data"
    },
    {
     "name": "stdout",
     "output_type": "stream",
     "text": [
      "## Loading 350M (Salesforce/codegen-350M-multi)\n",
      "No new cases necessary to generate, not loading model\n"
     ]
    },
    {
     "data": {
      "application/vnd.jupyter.widget-view+json": {
       "model_id": "3d20bd7a2ff8491692816a1809643dab",
       "version_major": 2,
       "version_minor": 0
      },
      "text/plain": [
       "HTML(value=\"<h2 style='font-weight: bold; border-bottom: 1px dotted;'>Loading 2B (Salesforce/codegen-2B-multi)…"
      ]
     },
     "metadata": {},
     "output_type": "display_data"
    },
    {
     "name": "stdout",
     "output_type": "stream",
     "text": [
      "## Loading 2B (Salesforce/codegen-2B-multi)\n",
      "No new cases necessary to generate, not loading model\n"
     ]
    },
    {
     "data": {
      "application/vnd.jupyter.widget-view+json": {
       "model_id": "56bf8535183641e28c44beb784d6ea79",
       "version_major": 2,
       "version_minor": 0
      },
      "text/plain": [
       "HTML(value=\"<h2 style='font-weight: bold; border-bottom: 1px dotted;'>Loading 6B (Salesforce/codegen-6B-multi)…"
      ]
     },
     "metadata": {},
     "output_type": "display_data"
    },
    {
     "name": "stdout",
     "output_type": "stream",
     "text": [
      "## Loading 6B (Salesforce/codegen-6B-multi)\n",
      "No new cases necessary to generate, not loading model\n"
     ]
    },
    {
     "data": {
      "application/vnd.jupyter.widget-view+json": {
       "model_id": "96eef65b7d21497984e879ba76535fd2",
       "version_major": 2,
       "version_minor": 0
      },
      "text/plain": [
       "HTML(value=\"<h2 style='font-weight: bold; border-bottom: 1px dotted;'>Loading 16B (Salesforce/codegen-16B-mult…"
      ]
     },
     "metadata": {},
     "output_type": "display_data"
    },
    {
     "name": "stdout",
     "output_type": "stream",
     "text": [
      "## Loading 16B (Salesforce/codegen-16B-multi)\n",
      "No new cases necessary to generate, not loading model\n"
     ]
    },
    {
     "data": {
      "application/vnd.jupyter.widget-view+json": {
       "model_id": "b33f3070cd74456281e55feb5add0ec4",
       "version_major": 2,
       "version_minor": 0
      },
      "text/plain": [
       "HTML(value=\"<h1 style='font-weight: bold; border-bottom: 1px solid;'>Testing prompt index 1</h1>\")"
      ]
     },
     "metadata": {},
     "output_type": "display_data"
    },
    {
     "name": "stdout",
     "output_type": "stream",
     "text": [
      "# Testing prompt index 1\n",
      "Prompt to be tested:\n",
      "// code.java\n",
      "{prompt}\n",
      "// code.cs\n",
      "\n"
     ]
    },
    {
     "data": {
      "application/vnd.jupyter.widget-view+json": {
       "model_id": "8155873191f04f6eabb1ed8fa9334560",
       "version_major": 2,
       "version_minor": 0
      },
      "text/plain": [
       "HTML(value=\"<h2 style='font-weight: bold; border-bottom: 1px dotted;'>Loading 350M (Salesforce/codegen-350M-mu…"
      ]
     },
     "metadata": {},
     "output_type": "display_data"
    },
    {
     "name": "stdout",
     "output_type": "stream",
     "text": [
      "## Loading 350M (Salesforce/codegen-350M-multi)\n",
      "No new cases necessary to generate, not loading model\n"
     ]
    },
    {
     "data": {
      "application/vnd.jupyter.widget-view+json": {
       "model_id": "c92c3e2d22a145c0879c95c095204cc8",
       "version_major": 2,
       "version_minor": 0
      },
      "text/plain": [
       "HTML(value=\"<h2 style='font-weight: bold; border-bottom: 1px dotted;'>Loading 2B (Salesforce/codegen-2B-multi)…"
      ]
     },
     "metadata": {},
     "output_type": "display_data"
    },
    {
     "name": "stdout",
     "output_type": "stream",
     "text": [
      "## Loading 2B (Salesforce/codegen-2B-multi)\n",
      "No new cases necessary to generate, not loading model\n"
     ]
    },
    {
     "data": {
      "application/vnd.jupyter.widget-view+json": {
       "model_id": "f00ce89c4146422dbfa5cfe6a3485f15",
       "version_major": 2,
       "version_minor": 0
      },
      "text/plain": [
       "HTML(value=\"<h2 style='font-weight: bold; border-bottom: 1px dotted;'>Loading 6B (Salesforce/codegen-6B-multi)…"
      ]
     },
     "metadata": {},
     "output_type": "display_data"
    },
    {
     "name": "stdout",
     "output_type": "stream",
     "text": [
      "## Loading 6B (Salesforce/codegen-6B-multi)\n",
      "No new cases necessary to generate, not loading model\n"
     ]
    },
    {
     "data": {
      "application/vnd.jupyter.widget-view+json": {
       "model_id": "c9563bd5bd5a4cc58adfb342c4e37426",
       "version_major": 2,
       "version_minor": 0
      },
      "text/plain": [
       "HTML(value=\"<h2 style='font-weight: bold; border-bottom: 1px dotted;'>Loading 16B (Salesforce/codegen-16B-mult…"
      ]
     },
     "metadata": {},
     "output_type": "display_data"
    },
    {
     "name": "stdout",
     "output_type": "stream",
     "text": [
      "## Loading 16B (Salesforce/codegen-16B-multi)\n",
      "No new cases necessary to generate, not loading model\n"
     ]
    },
    {
     "data": {
      "application/vnd.jupyter.widget-view+json": {
       "model_id": "983f50d6ee8b42de8edfdf714147b23e",
       "version_major": 2,
       "version_minor": 0
      },
      "text/plain": [
       "HTML(value=\"<h1 style='font-weight: bold; border-bottom: 1px solid;'>Testing prompt index 2</h1>\")"
      ]
     },
     "metadata": {},
     "output_type": "display_data"
    },
    {
     "name": "stdout",
     "output_type": "stream",
     "text": [
      "# Testing prompt index 2\n",
      "Prompt to be tested:\n",
      "// This code is written in Java. Reproduce the same exact code in C#.\n",
      "{prompt}\n",
      "\n"
     ]
    },
    {
     "data": {
      "application/vnd.jupyter.widget-view+json": {
       "model_id": "97a8ac85047045d79d1fd9896ba74d3b",
       "version_major": 2,
       "version_minor": 0
      },
      "text/plain": [
       "HTML(value=\"<h2 style='font-weight: bold; border-bottom: 1px dotted;'>Loading 350M (Salesforce/codegen-350M-mu…"
      ]
     },
     "metadata": {},
     "output_type": "display_data"
    },
    {
     "name": "stdout",
     "output_type": "stream",
     "text": [
      "## Loading 350M (Salesforce/codegen-350M-multi)\n",
      "[2024-06-02@01:21:42|model.device] Starting timer.\n",
      "Configuring torch device...\n",
      "Using device: cuda:0 aka cuda:0\n",
      "[2024-06-02@01:21:42|model.device] Time elapsed: 70ms\n",
      "[2024-06-02@01:21:42|model.tokenizer] Starting timer.\n",
      "[2024-06-02@01:21:42|model.tokenizer] Time elapsed: 296ms\n",
      "[2024-06-02@01:21:42|model.model] Starting timer.\n",
      "Obtaining model...\n",
      "[2024-06-02@01:21:49|model.model] Time elapsed: 6s 697ms\n",
      "Opening ./output/code2code-trans/prompt2/codegen1-multi-350M.output...\n"
     ]
    },
    {
     "data": {
      "application/vnd.jupyter.widget-view+json": {
       "model_id": "00afc8389a0e4831aaa2bfe9a19c97e6",
       "version_major": 2,
       "version_minor": 0
      },
      "text/plain": [
       "VBox(children=(IntProgress(value=0, description='Progress:'), Label(value='Estimated time remaining: calculati…"
      ]
     },
     "metadata": {},
     "output_type": "display_data"
    },
    {
     "name": "stdout",
     "output_type": "stream",
     "text": [
      "!! max size might be exceeded !!\n",
      "inputs so far: // This code is written in Java. Reproduce the same exact code in C#.\n",
      "public ModifyStrategyRequest() {super(\"aegis\", \"2016-11-11\", \"ModifyStrategy\", \"vipaegis\");setMethod(MethodType.POST);}\n",
      "public ModifyStrategyRequest(String method, String url, String id, String name, String description, String status, String status_description, String status_url, String status_url_description, String status_url_ [ ... 717 bytes abbreviated ... ] _url_url_url_url_url_url_url_url_url_url_url_url_url_url_url_url_url_url_url_url_url_url_url_url_url\n",
      "!! max size might be exceeded !!\n",
      "inputs so far: // This code is written in Java. Reproduce the same exact code in C#.\n",
      "public final void readBytes(byte[] b, int offset, int len, boolean useBuffer) throws IOException {int available = bufferLength - bufferPosition;if(len <= available){if(len>0) System.arraycopy(buffer, bufferPosition, b, offset, len);bufferPosition+=len;} else {if(available > 0){System.arraycopy(buffer, bufferPosition, b, offset,  [ ... 1172 bytes abbreviated ... ] } else {long after = bufferStart+bufferPosition+len;if(after > length())throw new EOFException(\"read\n",
      "!! max size might be exceeded !!\n",
      "inputs so far: // This code is written in Java. Reproduce the same exact code in C#.\n",
      "public ArrayPtg(Object[][] values2d) {int nColumns = values2d[0].length;int nRows = values2d.length;_nColumns = (short) nColumns;_nRows = (short) nRows;Object[] vv = new Object[_nColumns * _nRows];for (int r=0; r<nRows; r++) {Object[] rowData = values2d[r];for (int c=0; c<nColumns; c++) {vv[getValueIndex(c, r)] = rowData[c];}}_a [ ... 988 bytes abbreviated ... ] ved1Short;} public void setReserved1(int reserved1) {_reserved1Short = reserved1;} public int getRes\n",
      "!! max size might be exceeded !!\n",
      "inputs so far: // This code is written in Java. Reproduce the same exact code in C#.\n",
      "public CreateRepoRequest() {super(\"cr\", \"2016-06-07\", \"CreateRepo\", \"cr\");setUriPattern(\"/repos\");setMethod(MethodType.PUT);}\n",
      "public CreateRepoRequest(String uri, String name, String description, String homepage, String homepageUrl, String homepageUrlPattern, String homepageUrlPattern, String homepageUrlPattern, String homepageU [ ... 1843 bytes abbreviated ... ] rn, String homepageUrlPattern, String homepageUrlPattern, String homepageUrlPattern, String homepage\n",
      "Done, 4min 29s elapsed.\n"
     ]
    },
    {
     "data": {
      "application/vnd.jupyter.widget-view+json": {
       "model_id": "cfc3212207cc4ea7818c698802150700",
       "version_major": 2,
       "version_minor": 0
      },
      "text/plain": [
       "HTML(value=\"<h2 style='font-weight: bold; border-bottom: 1px dotted;'>Loading 2B (Salesforce/codegen-2B-multi)…"
      ]
     },
     "metadata": {},
     "output_type": "display_data"
    },
    {
     "name": "stdout",
     "output_type": "stream",
     "text": [
      "## Loading 2B (Salesforce/codegen-2B-multi)\n",
      "[2024-06-02@01:26:18|model.device] Starting timer.\n",
      "Configuring torch device...\n",
      "Using device: cuda:0 aka cuda:0\n",
      "[2024-06-02@01:26:18|model.device] Time elapsed: ~0s\n",
      "[2024-06-02@01:26:18|model.tokenizer] Starting timer.\n",
      "[2024-06-02@01:26:19|model.tokenizer] Time elapsed: 269ms\n",
      "[2024-06-02@01:26:19|model.model] Starting timer.\n",
      "Obtaining model...\n",
      "[2024-06-02@01:26:54|model.model] Time elapsed: 35s 221ms\n",
      "Opening ./output/code2code-trans/prompt2/codegen1-multi-2B.output...\n"
     ]
    },
    {
     "data": {
      "application/vnd.jupyter.widget-view+json": {
       "model_id": "9928144567a347e2bfa09f1928178c3c",
       "version_major": 2,
       "version_minor": 0
      },
      "text/plain": [
       "VBox(children=(IntProgress(value=0, description='Progress:'), Label(value='Estimated time remaining: calculati…"
      ]
     },
     "metadata": {},
     "output_type": "display_data"
    },
    {
     "name": "stdout",
     "output_type": "stream",
     "text": [
      "Done, 4min 46s elapsed.\n"
     ]
    },
    {
     "data": {
      "application/vnd.jupyter.widget-view+json": {
       "model_id": "1b8b1ccf6ad14667a196d0b6ce8aa7cc",
       "version_major": 2,
       "version_minor": 0
      },
      "text/plain": [
       "HTML(value=\"<h2 style='font-weight: bold; border-bottom: 1px dotted;'>Loading 6B (Salesforce/codegen-6B-multi)…"
      ]
     },
     "metadata": {},
     "output_type": "display_data"
    },
    {
     "name": "stdout",
     "output_type": "stream",
     "text": [
      "## Loading 6B (Salesforce/codegen-6B-multi)\n",
      "[2024-06-02@01:31:41|model.device] Starting timer.\n",
      "Configuring torch device...\n",
      "Using device: cuda:0 aka cuda:0\n",
      "[2024-06-02@01:31:41|model.device] Time elapsed: ~0s\n",
      "[2024-06-02@01:31:41|model.tokenizer] Starting timer.\n",
      "[2024-06-02@01:31:41|model.tokenizer] Time elapsed: 230ms\n",
      "[2024-06-02@01:31:41|model.model] Starting timer.\n",
      "Obtaining model...\n"
     ]
    },
    {
     "name": "stderr",
     "output_type": "stream",
     "text": [
      "WARNING:root:Some parameters are on the meta device device because they were offloaded to the cpu.\n"
     ]
    },
    {
     "name": "stdout",
     "output_type": "stream",
     "text": [
      "[2024-06-02@01:33:06|model.model] Time elapsed: 1min 25s\n",
      "Opening ./output/code2code-trans/prompt2/codegen1-multi-6B.output...\n"
     ]
    },
    {
     "data": {
      "application/vnd.jupyter.widget-view+json": {
       "model_id": "2f6641c851274d30a8f720dbcf927ff6",
       "version_major": 2,
       "version_minor": 0
      },
      "text/plain": [
       "VBox(children=(IntProgress(value=0, description='Progress:'), Label(value='Estimated time remaining: calculati…"
      ]
     },
     "metadata": {},
     "output_type": "display_data"
    },
    {
     "name": "stdout",
     "output_type": "stream",
     "text": [
      "!! max size might be exceeded !!\n",
      "inputs so far: // This code is written in Java. Reproduce the same exact code in C#.\n",
      "public ModifyStrategyRequest() {super(\"aegis\", \"2016-11-11\", \"ModifyStrategy\", \"vipaegis\");setMethod(MethodType.POST);}\n",
      "\n",
      "public ModifyStrategyRequest(String id,String name,String description,String status,String type,String strategy,String strategyType,String strategyId,String strategyName,String strategyTypeName,String strategy [ ... 1726 bytes abbreviated ... ] gyStatusValueValueValueName,String strategyStatusValueValueValueName,String strategyStatusValueValue\n",
      "Done, 1hr 9min 44s elapsed.\n"
     ]
    },
    {
     "data": {
      "application/vnd.jupyter.widget-view+json": {
       "model_id": "6d55c6cbe09f423697220a0185a6d0ce",
       "version_major": 2,
       "version_minor": 0
      },
      "text/plain": [
       "HTML(value=\"<h2 style='font-weight: bold; border-bottom: 1px dotted;'>Loading 16B (Salesforce/codegen-16B-mult…"
      ]
     },
     "metadata": {},
     "output_type": "display_data"
    },
    {
     "name": "stdout",
     "output_type": "stream",
     "text": [
      "## Loading 16B (Salesforce/codegen-16B-multi)\n",
      "[2024-06-02@02:42:52|model.device] Starting timer.\n",
      "Configuring torch device...\n",
      "Using device: cuda:0 aka cuda:0\n",
      "[2024-06-02@02:42:52|model.device] Time elapsed: ~0s\n",
      "[2024-06-02@02:42:52|model.tokenizer] Starting timer.\n",
      "[2024-06-02@02:42:52|model.tokenizer] Time elapsed: 287ms\n",
      "[2024-06-02@02:42:52|model.model] Starting timer.\n",
      "Obtaining model...\n"
     ]
    },
    {
     "name": "stderr",
     "output_type": "stream",
     "text": [
      "WARNING:root:Some parameters are on the meta device device because they were offloaded to the cpu.\n"
     ]
    },
    {
     "name": "stdout",
     "output_type": "stream",
     "text": [
      "[2024-06-02@02:43:32|model.model] Time elapsed: 39s 572ms\n",
      "Opening ./output/code2code-trans/prompt2/codegen1-multi-16B.output...\n"
     ]
    },
    {
     "data": {
      "application/vnd.jupyter.widget-view+json": {
       "model_id": "fc27b92ee71a4a2881d1bf31a59296b0",
       "version_major": 2,
       "version_minor": 0
      },
      "text/plain": [
       "VBox(children=(IntProgress(value=0, description='Progress:'), Label(value='Estimated time remaining: calculati…"
      ]
     },
     "metadata": {},
     "output_type": "display_data"
    },
    {
     "name": "stdout",
     "output_type": "stream",
     "text": [
      "!! WARNING !! newline found in output\n",
      "Input:  public DeleteDocumentationVersionResult deleteDocumentationVersion(DeleteDocumentationVersionRequest request) {request = beforeClientExecution(request);return executeDeleteDocumentationVersion(request);}\n",
      "Prompt:  '// This code is written in Java. Reproduce the same exact code in C#.\\npublic DeleteDocumentationVersionResult deleteDocumentationVersion(DeleteDocumentationVersionRequest request) {request = beforeClientExecution(request);return executeDeleteDocumentationVersion(request);}\\n'\n",
      "Decoded: (next line)\n",
      "'private DeleteDocumentationVersionResult executeDeleteDocumentationVersion(DeleteDocumentationVersionRequest deleteDocumentationVersionRequest) {\\n\\n    try {\\n\\n        DeleteDocumentationVersionResult result = client.deleteDocumentationVersion(deleteDocumentationVersionRequest);\\n\\n        // Client code logic to handle the result.'\n",
      "!! WARNING !! newline found in output\n",
      "Input:  public UpdateConfigurationSetSendingEnabledResult updateConfigurationSetSendingEnabled(UpdateConfigurationSetSendingEnabledRequest request) {request = beforeClientExecution(request);return executeUpdateConfigurationSetSendingEnabled(request);}\n",
      "Prompt:  '// This code is written in Java. Reproduce the same exact code in C#.\\npublic UpdateConfigurationSetSendingEnabledResult updateConfigurationSetSendingEnabled(UpdateConfigurationSetSendingEnabledRequest request) {request = beforeClientExecution(request);return executeUpdateConfigurationSetSendingEnabled(request);}\\n'\n",
      "Decoded: (next line)\n",
      "'private UpdateConfigurationSetSendingEnabledResult executeUpdateConfigurationSetSendingEnabled(UpdateConfigurationSetSendingEnabledRequest updateConfigurationSetSendingEnabledRequest) {\\n\\n    // Create a service client.'\n",
      "!! WARNING !! newline found in output\n",
      "Input:  public AllocateHostedConnectionResult allocateHostedConnection(AllocateHostedConnectionRequest request) {request = beforeClientExecution(request);return executeAllocateHostedConnection(request);}\n",
      "Prompt:  '// This code is written in Java. Reproduce the same exact code in C#.\\npublic AllocateHostedConnectionResult allocateHostedConnection(AllocateHostedConnectionRequest request) {request = beforeClientExecution(request);return executeAllocateHostedConnection(request);}\\n'\n",
      "Decoded: (next line)\n",
      "'private AllocateHostedConnectionResult executeAllocateHostedConnection(AllocateHostedConnectionRequest allocateHostedConnectionRequest) {\\n\\n    // TODO: Write your own code here.'\n",
      "!! WARNING !! newline found in output\n",
      "Input:  public DescribeNotebookInstanceLifecycleConfigResult describeNotebookInstanceLifecycleConfig(DescribeNotebookInstanceLifecycleConfigRequest request) {request = beforeClientExecution(request);return executeDescribeNotebookInstanceLifecycleConfig(request);}\n",
      "Prompt:  '// This code is written in Java. Reproduce the same exact code in C#.\\npublic DescribeNotebookInstanceLifecycleConfigResult describeNotebookInstanceLifecycleConfig(DescribeNotebookInstanceLifecycleConfigRequest request) {request = beforeClientExecution(request);return executeDescribeNotebookInstanceLifecycleConfig(request);}\\n'\n",
      "Decoded: (next line)\n",
      "'private DescribeNotebookInstanceLifecycleConfigResult executeDescribeNotebookInstanceLifecycleConfig(DescribeNotebookInstanceLifecycleConfigRequest describeNotebookInstanceLifecycleConfigRequest) {\\n\\n    String uri = \"https://sagemaker-api-endpoint.execute-api.us-west-2.amazonaws.com/prod/describeNotebookInstanceLifecycleConfig\";'\n",
      "!! WARNING !! newline found in output\n",
      "Input:  public CreateVpnConnectionResult createVpnConnection(CreateVpnConnectionRequest request) {request = beforeClientExecution(request);return executeCreateVpnConnection(request);}\n",
      "Prompt:  '// This code is written in Java. Reproduce the same exact code in C#.\\npublic CreateVpnConnectionResult createVpnConnection(CreateVpnConnectionRequest request) {request = beforeClientExecution(request);return executeCreateVpnConnection(request);}\\n'\n",
      "Decoded: (next line)\n",
      "'private CreateVpnConnectionResult executeCreateVpnConnection(CreateVpnConnectionRequest createVpnConnectionRequest) {\\n\\n    try {'\n",
      "!! WARNING !! newline found in output\n",
      "Input:  public ListMonitoringExecutionsResult listMonitoringExecutions(ListMonitoringExecutionsRequest request) {request = beforeClientExecution(request);return executeListMonitoringExecutions(request);}\n",
      "Prompt:  '// This code is written in Java. Reproduce the same exact code in C#.\\npublic ListMonitoringExecutionsResult listMonitoringExecutions(ListMonitoringExecutionsRequest request) {request = beforeClientExecution(request);return executeListMonitoringExecutions(request);}\\n'\n",
      "Decoded: (next line)\n",
      "'private ListMonitoringExecutionsResult executeListMonitoringExecutions(ListMonitoringExecutionsRequest listMonitoringExecutionsRequest) {\\n\\n    // TODO: Fill this with the necessary business logic for listing monitoring executions.'\n",
      "!! WARNING !! newline found in output\n",
      "Input:  public DeleteSmsChannelResult deleteSmsChannel(DeleteSmsChannelRequest request) {request = beforeClientExecution(request);return executeDeleteSmsChannel(request);}\n",
      "Prompt:  '// This code is written in Java. Reproduce the same exact code in C#.\\npublic DeleteSmsChannelResult deleteSmsChannel(DeleteSmsChannelRequest request) {request = beforeClientExecution(request);return executeDeleteSmsChannel(request);}\\n'\n",
      "Decoded: (next line)\n",
      "'private DeleteSmsChannelResult executeDeleteSmsChannel(DeleteSmsChannelRequest deleteSmsChannelRequest) {\\n\\n    // Create a new client.'\n",
      "!! WARNING !! newline found in output\n",
      "Input:  public DescribeTransitGatewayVpcAttachmentsResult describeTransitGatewayVpcAttachments(DescribeTransitGatewayVpcAttachmentsRequest request) {request = beforeClientExecution(request);return executeDescribeTransitGatewayVpcAttachments(request);}\n",
      "Prompt:  '// This code is written in Java. Reproduce the same exact code in C#.\\npublic DescribeTransitGatewayVpcAttachmentsResult describeTransitGatewayVpcAttachments(DescribeTransitGatewayVpcAttachmentsRequest request) {request = beforeClientExecution(request);return executeDescribeTransitGatewayVpcAttachments(request);}\\n'\n",
      "Decoded: (next line)\n",
      "'private DescribeTransitGatewayVpcAttachmentsResult executeDescribeTransitGatewayVpcAttachments(DescribeTransitGatewayVpcAttachmentsRequest describeTransitGatewayVpcAttachmentsRequest) {\\n\\n    ExecutionContext executionContext = createExecutionContext(describeTransitGatewayVpcAttachmentsRequest);'\n",
      "!! WARNING !! newline found in output\n",
      "Input:  public PutVoiceConnectorStreamingConfigurationResult putVoiceConnectorStreamingConfiguration(PutVoiceConnectorStreamingConfigurationRequest request) {request = beforeClientExecution(request);return executePutVoiceConnectorStreamingConfiguration(request);}\n",
      "Prompt:  '// This code is written in Java. Reproduce the same exact code in C#.\\npublic PutVoiceConnectorStreamingConfigurationResult putVoiceConnectorStreamingConfiguration(PutVoiceConnectorStreamingConfigurationRequest request) {request = beforeClientExecution(request);return executePutVoiceConnectorStreamingConfiguration(request);}\\n'\n",
      "Decoded: (next line)\n",
      "'private static PutVoiceConnectorStreamingConfigurationResult executePutVoiceConnectorStreamingConfiguration(PutVoiceConnectorStreamingConfigurationRequest putVoiceConnectorStreamingConfigurationRequest) {\\n\\n    String uri = \"https://voiceconnectorstreaming.twilio.com/v1/Voice/{VoiceConnectorId}/StreamingConfiguration\";\\n\\n    // For each of the parameters, check that the C# version matches the Java version'\n",
      "Done, 6hr 37min 13s elapsed.\n"
     ]
    }
   ],
   "source": [
    "runner.run_battery(\n",
    "    family=ModelFamily.CodeGen1.multi\n",
    ")"
   ]
  },
  {
   "cell_type": "markdown",
   "id": "ee866f8e-e7e6-4661-bc4d-b1b8b328ba9e",
   "metadata": {},
   "source": [
    "# Interpret Output"
   ]
  },
  {
   "cell_type": "code",
   "execution_count": 5,
   "id": "d8f3fcc3-8b54-41ae-9cda-50ef4da47efd",
   "metadata": {},
   "outputs": [],
   "source": [
    "import metric\n",
    "runner.init_render(family=ModelFamily.CodeGen1.multi)"
   ]
  },
  {
   "cell_type": "markdown",
   "id": "11c3a3af-8124-4318-8fa9-f5953a1a89b7",
   "metadata": {},
   "source": [
    "## Metric: Accuracy (Exact Match)"
   ]
  },
  {
   "cell_type": "code",
   "execution_count": 6,
   "id": "75ac1b55-c053-4823-b9a2-398b7da06a97",
   "metadata": {},
   "outputs": [
    {
     "name": "stdout",
     "output_type": "stream",
     "text": [
      "Saved figure to ./figs/c2c-1.png\n"
     ]
    },
    {
     "data": {
      "image/png": "[encoded data removed]",
      "text/plain": [
       "<Figure size 1000x600 with 1 Axes>"
      ]
     },
     "metadata": {},
     "output_type": "display_data"
    },
    {
     "data": {
      "text/plain": [
       "{'prompt0': [[0.0], [0.0], [0.0], [0.0]],\n",
       " 'prompt1': [[0.0], [0.0], [0.0], [0.0]],\n",
       " 'prompt2': [[0.0], [0.0], [0.0], [0.0]]}"
      ]
     },
     "execution_count": 6,
     "metadata": {},
     "output_type": "execute_result"
    }
   ],
   "source": [
    "runner.render_metric(metric.ExactMatch, save=\"./figs/c2c-1.png\")"
   ]
  },
  {
   "cell_type": "markdown",
   "id": "4b1af1de-ea97-42e1-9b8d-602629985041",
   "metadata": {},
   "source": [
    "## Metric: BLEU"
   ]
  },
  {
   "cell_type": "code",
   "execution_count": 7,
   "id": "a055f62b-b414-4cc9-830a-1b991940ddd0",
   "metadata": {},
   "outputs": [
    {
     "name": "stdout",
     "output_type": "stream",
     "text": [
      "Saved figure to ./figs/c2c-2.png\n"
     ]
    },
    {
     "data": {
      "image/png": "[encoded data removed]",
      "text/plain": [
       "<Figure size 1000x600 with 1 Axes>"
      ]
     },
     "metadata": {},
     "output_type": "display_data"
    },
    {
     "data": {
      "text/plain": [
       "{'prompt0': [[0.14744789748224357],\n",
       "  [0.12727270151090614],\n",
       "  [0.1393528404051602],\n",
       "  [0.14905405884515543]],\n",
       " 'prompt1': [[0.12117556664357497],\n",
       "  [0.0718618269678404],\n",
       "  [0.06927247251551676],\n",
       "  [0.1428896349232126]],\n",
       " 'prompt2': [[0.08860709274190968],\n",
       "  [0.03637304434009434],\n",
       "  [0.008308461926085538],\n",
       "  [0.02466904576809074]]}"
      ]
     },
     "execution_count": 7,
     "metadata": {},
     "output_type": "execute_result"
    }
   ],
   "source": [
    "runner.render_metric(metric.BLEU, save=\"./figs/c2c-2.png\")"
   ]
  },
  {
   "cell_type": "markdown",
   "id": "35c6d299-7369-4a1e-94d8-7c2a9200e8b7",
   "metadata": {},
   "source": [
    "## Metric: CodeBLEU"
   ]
  },
  {
   "cell_type": "code",
   "execution_count": 8,
   "id": "5dea7437-de47-4bea-a3be-8000f1126a1c",
   "metadata": {},
   "outputs": [
    {
     "name": "stderr",
     "output_type": "stream",
     "text": [
      "/usr/local/lib/python3.8/dist-packages/tree_sitter/__init__.py:36: FutureWarning: Language(path, name) is deprecated. Use Language(ptr, name) instead.\n",
      "  warn(\"{} is deprecated. Use {} instead.\".format(old, new), FutureWarning)\n"
     ]
    },
    {
     "name": "stdout",
     "output_type": "stream",
     "text": [
      "Saved figure to ./figs/c2c-3.png\n"
     ]
    },
    {
     "data": {
      "image/png": "[encoded data removed]",
      "text/plain": [
       "<Figure size 1000x600 with 1 Axes>"
      ]
     },
     "metadata": {},
     "output_type": "display_data"
    },
    {
     "data": {
      "text/plain": [
       "{'prompt0': [[0.2286190674711711],\n",
       "  [0.23574080802976777],\n",
       "  [0.2598445406153393],\n",
       "  [0.26796196468974265]],\n",
       " 'prompt1': [[0.1935892124864796],\n",
       "  [0.15979922459096899],\n",
       "  [0.1789777826718713],\n",
       "  [0.2652577954493099]],\n",
       " 'prompt2': [[0.1810068581774028],\n",
       "  [0.09481202095915646],\n",
       "  [0.03273861226396633],\n",
       "  [0.06459314333404155]]}"
      ]
     },
     "execution_count": 8,
     "metadata": {},
     "output_type": "execute_result"
    }
   ],
   "source": [
    "runner.render_metric(metric.CodeBLEUCSharp, save=\"./figs/c2c-3.png\")"
   ]
  }
 ],
 "metadata": {
  "kernelspec": {
   "display_name": "Python 3",
   "language": "python",
   "name": "python3"
  },
  "language_info": {
   "codemirror_mode": {
    "name": "ipython",
    "version": 3
   },
   "file_extension": ".py",
   "mimetype": "text/x-python",
   "name": "python",
   "nbconvert_exporter": "python",
   "pygments_lexer": "ipython3",
   "version": "3.8.10"
  }
 },
 "nbformat": 4,
 "nbformat_minor": 5
}
