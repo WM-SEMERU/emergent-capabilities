{
 "cells": [
  {
   "cell_type": "markdown",
   "id": "e540f709-7008-4f6a-a447-a3353bbfaf87",
   "metadata": {},
   "source": [
    "# Common Constants"
   ]
  },
  {
   "cell_type": "code",
   "execution_count": 1,
   "id": "57085bbc-2f9e-4f37-9bb3-1ff1c3381988",
   "metadata": {},
   "outputs": [],
   "source": [
    "import os\n",
    "CASE_COUNT = 3\n",
    "META_COUNT = None # number of trials per\n",
    "PROMPT_INDEX = 0\n",
    "\n",
    "BATTERY_DIR = \"./data/CodeXGLUE/Code-Code/code-to-code-trans/data/\"\n",
    "BATTERY_SRC = os.path.join(BATTERY_DIR, \"test.java-cs.txt.java\")\n",
    "TRUTH_SRC = os.path.join(BATTERY_DIR, \"test.java-cs.txt.cs\")\n",
    "OUTPUT_DIR = f\"./output/code2code-trans/prompt{PROMPT_INDEX}\"\n",
    "\n",
    "PROMPTS = [\n",
    "    \"// original code.java\\n{prompt}\\n// code.cs version of code.java\\n\",\n",
    "    \"// code.java\\n{prompt}\\n// code.cs\\n\",\n",
    "]\n",
    "\n",
    "PROMPT = PROMPTS[PROMPT_INDEX]"
   ]
  },
  {
   "cell_type": "code",
   "execution_count": 2,
   "id": "c3592d92-e7d3-485a-bfb2-921e8c323055",
   "metadata": {},
   "outputs": [
    {
     "name": "stdout",
     "output_type": "stream",
     "text": [
      "Loaded 3 cases!\n"
     ]
    }
   ],
   "source": [
    "os.makedirs(OUTPUT_DIR, exist_ok=True)\n",
    "BATTERY = []\n",
    "with open(BATTERY_SRC, \"r\") as battery:\n",
    "    BATTERY = [\n",
    "        line.strip()\n",
    "        for line\n",
    "        in battery.readlines()[:CASE_COUNT]\n",
    "    ]\n",
    "print(f\"Loaded {len(BATTERY)} cases!\")"
   ]
  },
  {
   "cell_type": "code",
   "execution_count": 3,
   "id": "be41b613-acfa-4ad9-99a5-778a0555b12e",
   "metadata": {},
   "outputs": [],
   "source": [
    "from timehelp import with_progress, display_header\n",
    "import time\n",
    "import ipywidgets as widgets\n",
    "from IPython.display import display"
   ]
  },
  {
   "cell_type": "code",
   "execution_count": 4,
   "id": "63630ff5-96ad-4a42-89cc-8b9214332656",
   "metadata": {},
   "outputs": [
    {
     "name": "stdout",
     "output_type": "stream",
     "text": [
      "Importing torch...\n",
      "Importing HF...\n",
      "Importing python modules...\n",
      "Done!\n"
     ]
    }
   ],
   "source": [
    "print(\"Importing torch...\")\n",
    "import torch\n",
    "import torch.nn as nn\n",
    "print(\"Importing HF...\")\n",
    "from transformers import AutoTokenizer, AutoModelForCausalLM\n",
    "print(\"Importing python modules...\")\n",
    "from timehelp import time_start, time_end\n",
    "from model_wrapper import Model, ModelFamily, MultipleChoiceStrategy\n",
    "import re\n",
    "print(\"Done!\")"
   ]
  },
  {
   "cell_type": "code",
   "execution_count": 5,
   "id": "120a72c3-76fd-4060-aa8b-c8a4a5e8ecf0",
   "metadata": {},
   "outputs": [
    {
     "data": {
      "application/vnd.jupyter.widget-view+json": {
       "model_id": "d1fc129f8ee24dc99392d26a630760f4",
       "version_major": 2,
       "version_minor": 0
      },
      "text/plain": [
       "HTML(value=\"<h1 style='font-weight: bold;'>Loading 350M (Salesforce/codegen-350M-multi)</h1>\")"
      ]
     },
     "metadata": {},
     "output_type": "display_data"
    },
    {
     "name": "stdout",
     "output_type": "stream",
     "text": [
      "# Loading 350M (Salesforce/codegen-350M-multi)\n",
      "[2024-05-31@05:35:23|model.device] Starting timer.\n",
      "Configuring torch device...\n",
      "Using device: cuda:0 aka cuda:0\n",
      "[2024-05-31@05:35:23|model.device] Time elapsed: 62ms\n",
      "[2024-05-31@05:35:23|model.tokenizer] Starting timer.\n",
      "[2024-05-31@05:35:23|model.tokenizer] Time elapsed: 228ms\n",
      "[2024-05-31@05:35:23|model.model] Starting timer.\n",
      "Obtaining model...\n",
      "[2024-05-31@05:35:26|model.model] Time elapsed: 3s 272ms\n",
      "Opening ./output/code2code-trans/prompt0/codegen1-multi-350M.output...\n",
      "3 entries found already, skipping that many...\n"
     ]
    },
    {
     "data": {
      "application/vnd.jupyter.widget-view+json": {
       "model_id": "94eaaf14382c442286996623277e4a01",
       "version_major": 2,
       "version_minor": 0
      },
      "text/plain": [
       "VBox(children=(IntProgress(value=0, description='Progress:', max=3), Label(value='Estimated time remaining: ca…"
      ]
     },
     "metadata": {},
     "output_type": "display_data"
    },
    {
     "name": "stdout",
     "output_type": "stream",
     "text": [
      "Done, ~0s elapsed.\n"
     ]
    },
    {
     "data": {
      "application/vnd.jupyter.widget-view+json": {
       "model_id": "c65dfe3135294291b1fe04bc80a6b344",
       "version_major": 2,
       "version_minor": 0
      },
      "text/plain": [
       "HTML(value=\"<h1 style='font-weight: bold;'>Loading 2B (Salesforce/codegen-2B-multi)</h1>\")"
      ]
     },
     "metadata": {},
     "output_type": "display_data"
    },
    {
     "name": "stdout",
     "output_type": "stream",
     "text": [
      "# Loading 2B (Salesforce/codegen-2B-multi)\n",
      "[2024-05-31@05:35:26|model.device] Starting timer.\n",
      "Configuring torch device...\n",
      "Using device: cuda:0 aka cuda:0\n",
      "[2024-05-31@05:35:26|model.device] Time elapsed: ~0s\n",
      "[2024-05-31@05:35:26|model.tokenizer] Starting timer.\n",
      "[2024-05-31@05:35:27|model.tokenizer] Time elapsed: 169ms\n",
      "[2024-05-31@05:35:27|model.model] Starting timer.\n",
      "Obtaining model...\n",
      "[2024-05-31@05:35:35|model.model] Time elapsed: 8s 602ms\n",
      "Opening ./output/code2code-trans/prompt0/codegen1-multi-2B.output...\n",
      "3 entries found already, skipping that many...\n"
     ]
    },
    {
     "data": {
      "application/vnd.jupyter.widget-view+json": {
       "model_id": "a57faebcd0d24916a3fa6a09dcf28497",
       "version_major": 2,
       "version_minor": 0
      },
      "text/plain": [
       "VBox(children=(IntProgress(value=0, description='Progress:', max=3), Label(value='Estimated time remaining: ca…"
      ]
     },
     "metadata": {},
     "output_type": "display_data"
    },
    {
     "name": "stdout",
     "output_type": "stream",
     "text": [
      "Done, ~0s elapsed.\n"
     ]
    },
    {
     "data": {
      "application/vnd.jupyter.widget-view+json": {
       "model_id": "f112223bf454474d83437d74a27f2c13",
       "version_major": 2,
       "version_minor": 0
      },
      "text/plain": [
       "HTML(value=\"<h1 style='font-weight: bold;'>Loading 6B (Salesforce/codegen-6B-multi)</h1>\")"
      ]
     },
     "metadata": {},
     "output_type": "display_data"
    },
    {
     "name": "stdout",
     "output_type": "stream",
     "text": [
      "# Loading 6B (Salesforce/codegen-6B-multi)\n",
      "[2024-05-31@05:35:35|model.device] Starting timer.\n",
      "Configuring torch device...\n",
      "Using device: cuda:0 aka cuda:0\n",
      "[2024-05-31@05:35:35|model.device] Time elapsed: ~0s\n",
      "[2024-05-31@05:35:35|model.tokenizer] Starting timer.\n",
      "[2024-05-31@05:35:36|model.tokenizer] Time elapsed: 126ms\n",
      "[2024-05-31@05:35:36|model.model] Starting timer.\n",
      "Obtaining model...\n"
     ]
    },
    {
     "name": "stderr",
     "output_type": "stream",
     "text": [
      "WARNING:root:Some parameters are on the meta device device because they were offloaded to the cpu.\n"
     ]
    },
    {
     "name": "stdout",
     "output_type": "stream",
     "text": [
      "[2024-05-31@05:35:55|model.model] Time elapsed: 19s 379ms\n",
      "Opening ./output/code2code-trans/prompt0/codegen1-multi-6B.output...\n",
      "1 entries found already, skipping that many...\n"
     ]
    },
    {
     "data": {
      "application/vnd.jupyter.widget-view+json": {
       "model_id": "9069875e402a490e9fc7ea1a42c0b078",
       "version_major": 2,
       "version_minor": 0
      },
      "text/plain": [
       "VBox(children=(IntProgress(value=0, description='Progress:', max=3), Label(value='Estimated time remaining: ca…"
      ]
     },
     "metadata": {},
     "output_type": "display_data"
    },
    {
     "name": "stdout",
     "output_type": "stream",
     "text": [
      "Done, 3min 35s elapsed.\n"
     ]
    },
    {
     "data": {
      "application/vnd.jupyter.widget-view+json": {
       "model_id": "8189eb04ad5d4718a1bb907540e5afa0",
       "version_major": 2,
       "version_minor": 0
      },
      "text/plain": [
       "HTML(value=\"<h1 style='font-weight: bold;'>Loading 16B (Salesforce/codegen-16B-multi)</h1>\")"
      ]
     },
     "metadata": {},
     "output_type": "display_data"
    },
    {
     "name": "stdout",
     "output_type": "stream",
     "text": [
      "# Loading 16B (Salesforce/codegen-16B-multi)\n",
      "[2024-05-31@05:39:31|model.device] Starting timer.\n",
      "Configuring torch device...\n",
      "Using device: cuda:0 aka cuda:0\n",
      "[2024-05-31@05:39:31|model.device] Time elapsed: ~0s\n",
      "[2024-05-31@05:39:31|model.tokenizer] Starting timer.\n",
      "[2024-05-31@05:39:31|model.tokenizer] Time elapsed: 127ms\n",
      "[2024-05-31@05:39:31|model.model] Starting timer.\n",
      "Obtaining model...\n"
     ]
    },
    {
     "name": "stderr",
     "output_type": "stream",
     "text": [
      "WARNING:root:Some parameters are on the meta device device because they were offloaded to the cpu.\n"
     ]
    },
    {
     "name": "stdout",
     "output_type": "stream",
     "text": [
      "[2024-05-31@05:40:11|model.model] Time elapsed: 39s 900ms\n",
      "Opening ./output/code2code-trans/prompt0/codegen1-multi-16B.output...\n"
     ]
    },
    {
     "data": {
      "application/vnd.jupyter.widget-view+json": {
       "model_id": "980e010c358e429897b8122a27e00acc",
       "version_major": 2,
       "version_minor": 0
      },
      "text/plain": [
       "VBox(children=(IntProgress(value=0, description='Progress:', max=3), Label(value='Estimated time remaining: ca…"
      ]
     },
     "metadata": {},
     "output_type": "display_data"
    },
    {
     "name": "stdout",
     "output_type": "stream",
     "text": [
      "Done, 23min 17s elapsed.\n"
     ]
    }
   ],
   "source": [
    "Model.test_battery(\n",
    "    family=ModelFamily.CodeGen1.multi,\n",
    "    family_name=\"codegen1-multi\",\n",
    "    battery=BATTERY,\n",
    "    prompt=PROMPT,\n",
    "    meta_count=META_COUNT,\n",
    "    output_dir=OUTPUT_DIR,\n",
    ")"
   ]
  },
  {
   "cell_type": "code",
   "execution_count": null,
   "id": "18c34646-1061-4d69-ab56-a557580e796b",
   "metadata": {},
   "outputs": [],
   "source": []
  }
 ],
 "metadata": {
  "kernelspec": {
   "display_name": "Python 3",
   "language": "python",
   "name": "python3"
  },
  "language_info": {
   "codemirror_mode": {
    "name": "ipython",
    "version": 3
   },
   "file_extension": ".py",
   "mimetype": "text/x-python",
   "name": "python",
   "nbconvert_exporter": "python",
   "pygments_lexer": "ipython3",
   "version": "3.8.10"
  }
 },
 "nbformat": 4,
 "nbformat_minor": 5
}
